{
  "nbformat": 4,
  "nbformat_minor": 0,
  "metadata": {
    "colab": {
      "provenance": [],
      "authorship_tag": "ABX9TyMgqtzQOZ8cdRWdBl+Km9LB",
      "include_colab_link": true
    },
    "kernelspec": {
      "name": "python3",
      "display_name": "Python 3"
    },
    "language_info": {
      "name": "python"
    }
  },
  "cells": [
    {
      "cell_type": "markdown",
      "metadata": {
        "id": "view-in-github",
        "colab_type": "text"
      },
      "source": [
        "<a href=\"https://colab.research.google.com/github/HelenaDEspindula/DSBD/blob/main/Caderno_Colab.ipynb\" target=\"_parent\"><img src=\"https://colab.research.google.com/assets/colab-badge.svg\" alt=\"Open In Colab\"/></a>"
      ]
    },
    {
      "cell_type": "markdown",
      "source": [
        "Pergunta de Quiz"
      ],
      "metadata": {
        "id": "dvPZKFd_jTVZ"
      }
    },
    {
      "cell_type": "code",
      "execution_count": 2,
      "metadata": {
        "colab": {
          "base_uri": "https://localhost:8080/"
        },
        "id": "jbFXm2jEgIlY",
        "outputId": "dbbc55eb-aff3-4bd7-8607-c55a1d97e666"
      },
      "outputs": [
        {
          "output_type": "stream",
          "name": "stdout",
          "text": [
            "nome  Maria sobrenome  Silva 6.0\n"
          ]
        }
      ],
      "source": [
        "import math\n",
        "\n",
        "nome = \"Maria\"\n",
        "sobrenome = \"Silva\"\n",
        "calculo = 36\n",
        "calculo = math.sqrt(36)\n",
        "print(\"nome \", nome, \"sobrenome \", sobrenome, calculo)\n",
        "\n"
      ]
    },
    {
      "cell_type": "markdown",
      "source": [
        "Coisas da aula 2\n"
      ],
      "metadata": {
        "id": "26WGdeOJjXqd"
      }
    },
    {
      "cell_type": "code",
      "source": [
        "hrsdespindula@h8:~$ python3\n",
        "Python 3.9.2 (default, Feb 28 2021, 17:03:44)\n",
        "[GCC 10.2.1 20210110] on linux\n",
        "Type \"help\", \"copyright\", \"credits\" or \"license\" for more information.\n",
        ">> quit()\n",
        "\n",
        "\n",
        "hrsdespindula@h8:~$ python3\n",
        "Python 3.9.2 (default, Feb 28 2021, 17:03:44)\n",
        "[GCC 10.2.1 20210110] on linux\n",
        "Type \"help\", \"copyright\", \"credits\" or \"license\" for more information.\n",
        ">>> print(\"SEU TEXTO\")\n",
        "SEU TEXTO\n",
        ">>> print(\"ola mundo\")\n",
        "ola mundo\n",
        "\n",
        "\n",
        "\n",
        "\n"
      ],
      "metadata": {
        "id": "bII5DSGQja1B"
      },
      "execution_count": null,
      "outputs": []
    },
    {
      "cell_type": "markdown",
      "source": [
        "Realizando Operações<br>\n",
        "O interpretador é capaz de realizar operações e exibir o resultado\n",
        "Alguns operadores que podem ser usados:<br>\n",
        "\"+\" Adição<br>\n",
        "\"-\" Subtração<br>\n",
        "\"/\" Divisão<br>\n",
        "\"*\" Multiplicação<br>\n",
        "\"**\" Exponenciação<br>\n",
        "\"%\" Módulo (resto da divisão)"
      ],
      "metadata": {
        "id": "kG7YRJWGjckY"
      }
    },
    {
      "cell_type": "code",
      "source": [
        "hrsdespindula@h8:~$ python3\n",
        "Python 3.9.2 (default, Feb 28 2021, 17:03:44)\n",
        "[GCC 10.2.1 20210110] on linux\n",
        "Type \"help\", \"copyright\", \"credits\" or \"license\" for more information.\n",
        ">>> print(\"SEU TEXTO\")\n",
        "SEU TEXTO\n",
        ">>> print(\"ola mundo\")\n",
        "ola mundo\n",
        ">>> 2+3\n",
        "5\n",
        ">>> 2-1\n",
        "1\n",
        ">>> 3*2\n",
        "6\n",
        ">>> 15/5\n",
        "3.0\n",
        ">>> 2**3\n",
        "8\n"
      ],
      "metadata": {
        "id": "vK30kTuCkatY"
      },
      "execution_count": null,
      "outputs": []
    },
    {
      "cell_type": "markdown",
      "source": [
        "Fazendo aqui"
      ],
      "metadata": {
        "id": "Pq7JoSGYkuRg"
      }
    },
    {
      "cell_type": "code",
      "source": [
        "print(\"2+3 = \",2+3)\n",
        "print(\"2-1 = \",2-1)\n",
        "print(\"3*2 = \",3*2)\n",
        "print(\"15/5 = \",15/5)\n",
        "print(\"2**3 = \", 2**3)"
      ],
      "metadata": {
        "colab": {
          "base_uri": "https://localhost:8080/"
        },
        "id": "kXOOhF9OkwP8",
        "outputId": "45c5593a-7d27-440e-8ab0-fc9a61156f27"
      },
      "execution_count": 8,
      "outputs": [
        {
          "output_type": "stream",
          "name": "stdout",
          "text": [
            "2+3 =  5\n",
            "2-1 =  1\n",
            "3*2 =  6\n",
            "15/5 =  3.0\n",
            "2**3 =  8\n"
          ]
        }
      ]
    },
    {
      "cell_type": "code",
      "source": [
        "qtde_alunos = 30\n",
        "nome = \"Maria\"\n",
        "pi = 3.14\n",
        "\n",
        "print(qtde_alunos, \" \", nome, \" \", pi)\n",
        "\n",
        "qtde_alunos = 200\n",
        "alunos_externos = 20\n",
        "total_alunos = qtde_alunos + alunos_externos\n",
        "print(total_alunos)\n",
        "print(qtde_alunos - alunos_externos)\n",
        "\n",
        "print(\"qtde_alunos = \", type(qtde_alunos))\n",
        "print(\"nome = \", type(nome))\n",
        "print(\"pi = \", type(pi))"
      ],
      "metadata": {
        "colab": {
          "base_uri": "https://localhost:8080/"
        },
        "id": "Vrq9M2qklOe-",
        "outputId": "9c888063-667d-4390-c290-4175f8879ca7"
      },
      "execution_count": 15,
      "outputs": [
        {
          "output_type": "stream",
          "name": "stdout",
          "text": [
            "30   Maria   3.14\n",
            "220\n",
            "180\n",
            "qtde_alunos =  <class 'int'>\n",
            "nome =  <class 'str'>\n",
            "pi =  <class 'float'>\n"
          ]
        }
      ]
    },
    {
      "cell_type": "markdown",
      "source": [
        "Tipos dinamico de variavel"
      ],
      "metadata": {
        "id": "1IeLq1uTmvsa"
      }
    },
    {
      "cell_type": "code",
      "source": [
        "x = 20\n",
        "print(\"x = \", x, \" = \", type(x))\n",
        "\n",
        "x = 20.13\n",
        "print(\"x = \", x, \" = \", type(x))\n",
        "\n",
        "x = \"20\"\n",
        "print(\"x = \", x, \" = \", type(x))"
      ],
      "metadata": {
        "colab": {
          "base_uri": "https://localhost:8080/"
        },
        "id": "uOOX7MS4mzp5",
        "outputId": "b0582534-de6b-4a85-e234-9de18cb1820a"
      },
      "execution_count": 19,
      "outputs": [
        {
          "output_type": "stream",
          "name": "stdout",
          "text": [
            "x =  20  =  <class 'int'>\n",
            "x =  20.13  =  <class 'float'>\n",
            "x =  20  =  <class 'str'>\n"
          ]
        }
      ]
    },
    {
      "cell_type": "markdown",
      "source": [
        "Concatenar é somar str"
      ],
      "metadata": {
        "id": "2LVWZr-onPaS"
      }
    },
    {
      "cell_type": "code",
      "source": [
        "str1 = \"sou a\"\n",
        "str2 = \" Helena\"\n",
        "x = str1 + str2\n",
        "print(x)\n",
        "\n",
        "print(10*str2)"
      ],
      "metadata": {
        "colab": {
          "base_uri": "https://localhost:8080/"
        },
        "id": "wjWYGxM4nRyK",
        "outputId": "2ee56cb5-1356-4a7a-8a78-998ca14be1f5"
      },
      "execution_count": 21,
      "outputs": [
        {
          "output_type": "stream",
          "name": "stdout",
          "text": [
            "sou a Helena\n",
            " Helena Helena Helena Helena Helena Helena Helena Helena Helena Helena\n"
          ]
        }
      ]
    },
    {
      "cell_type": "code",
      "source": [
        "variavel_destino = input(\"Texto opcional para exibir: \")\n",
        "\n",
        "print(variavel_destino)\n"
      ],
      "metadata": {
        "colab": {
          "base_uri": "https://localhost:8080/"
        },
        "id": "fzOOzStsoSw5",
        "outputId": "ff05819a-1bc7-454a-d8cd-7de3b41ec65e"
      },
      "execution_count": 23,
      "outputs": [
        {
          "output_type": "stream",
          "name": "stdout",
          "text": [
            "Texto opcional para exibirteste\n",
            "teste\n"
          ]
        }
      ]
    },
    {
      "cell_type": "code",
      "source": [
        "print(\"Olá mundo!\")\n",
        "nome = input(\"Digite seu nome: \")\n",
        "print(\"Seu nome é\", nome)\n",
        "\n",
        "idade = input(\"Digite sua idade: \")\n",
        "idade_apos = input(\"Com quantos anos você quer aposentar: \")\n",
        "anos_apos = idade_apos - idade\n",
        "print(\"Faltam\", anos_apos, \" para você aposentar\")"
      ],
      "metadata": {
        "colab": {
          "base_uri": "https://localhost:8080/",
          "height": 280
        },
        "id": "b4_JDnIgoeEU",
        "outputId": "46967134-3412-4a7a-dd37-1f0e9e47e275"
      },
      "execution_count": 25,
      "outputs": [
        {
          "name": "stdout",
          "output_type": "stream",
          "text": [
            "Olá mundo!\n",
            "Digite seu nome: Helena\n",
            "Seu nome é Helena\n",
            "Digite sua idade: 33\n",
            "Com quantos anos você quer aposentar: 70\n"
          ]
        },
        {
          "output_type": "error",
          "ename": "TypeError",
          "evalue": "unsupported operand type(s) for -: 'str' and 'str'",
          "traceback": [
            "\u001b[0;31m---------------------------------------------------------------------------\u001b[0m",
            "\u001b[0;31mTypeError\u001b[0m                                 Traceback (most recent call last)",
            "\u001b[0;32m<ipython-input-25-d3b8f4649b76>\u001b[0m in \u001b[0;36m<cell line: 7>\u001b[0;34m()\u001b[0m\n\u001b[1;32m      5\u001b[0m \u001b[0midade\u001b[0m \u001b[0;34m=\u001b[0m \u001b[0minput\u001b[0m\u001b[0;34m(\u001b[0m\u001b[0;34m\"Digite sua idade: \"\u001b[0m\u001b[0;34m)\u001b[0m\u001b[0;34m\u001b[0m\u001b[0;34m\u001b[0m\u001b[0m\n\u001b[1;32m      6\u001b[0m \u001b[0midade_apos\u001b[0m \u001b[0;34m=\u001b[0m \u001b[0minput\u001b[0m\u001b[0;34m(\u001b[0m\u001b[0;34m\"Com quantos anos você quer aposentar: \"\u001b[0m\u001b[0;34m)\u001b[0m\u001b[0;34m\u001b[0m\u001b[0;34m\u001b[0m\u001b[0m\n\u001b[0;32m----> 7\u001b[0;31m \u001b[0manos_apos\u001b[0m \u001b[0;34m=\u001b[0m \u001b[0midade_apos\u001b[0m \u001b[0;34m-\u001b[0m \u001b[0midade\u001b[0m\u001b[0;34m\u001b[0m\u001b[0;34m\u001b[0m\u001b[0m\n\u001b[0m\u001b[1;32m      8\u001b[0m \u001b[0mprint\u001b[0m\u001b[0;34m(\u001b[0m\u001b[0;34m\"Faltam\"\u001b[0m\u001b[0;34m,\u001b[0m \u001b[0manos_apos\u001b[0m\u001b[0;34m,\u001b[0m \u001b[0;34m\" para você aposentar\"\u001b[0m\u001b[0;34m)\u001b[0m\u001b[0;34m\u001b[0m\u001b[0;34m\u001b[0m\u001b[0m\n",
            "\u001b[0;31mTypeError\u001b[0m: unsupported operand type(s) for -: 'str' and 'str'"
          ]
        }
      ]
    },
    {
      "cell_type": "markdown",
      "source": [
        " não vai dar certo assim pq o tipo automatico tá errado"
      ],
      "metadata": {
        "id": "V9YD-1rooyfL"
      }
    },
    {
      "cell_type": "code",
      "source": [
        "idade = int(input(\"Digite sua idade: \"))\n",
        "idade_apos = int(input(\"Com quantos anos você quer aposentar: \"))\n",
        "anos_apos = idade_apos - idade\n",
        "print(\"Faltam \", anos_apos, \" para você aposentar\")\n",
        "\n",
        "idade = float(input(\"Digite sua idade: \"))\n",
        "idade_apos = float(input(\"Com quantos anos você quer aposentar: \"))\n",
        "anos_apos = idade_apos - idade\n",
        "print(\"Faltam \", anos_apos, \" para você aposentar\")\n",
        "print(\"Faltam\", anos_apos, \"para você aposentar\")"
      ],
      "metadata": {
        "colab": {
          "base_uri": "https://localhost:8080/"
        },
        "id": "cuMLOmaro2ss",
        "outputId": "232758ab-b285-4817-ca54-322a8b49c39b"
      },
      "execution_count": 29,
      "outputs": [
        {
          "output_type": "stream",
          "name": "stdout",
          "text": [
            "Digite sua idade: 33\n",
            "Com quantos anos você quer aposentar: 70\n",
            "Faltam  37  para você aposentar\n",
            "Digite sua idade: 50\n",
            "Com quantos anos você quer aposentar: 70\n",
            "Faltam  20.0  para você aposentar\n",
            "Faltam 20.0 para você aposentar\n"
          ]
        }
      ]
    },
    {
      "cell_type": "markdown",
      "source": [
        "\n",
        "Terminal:\n",
        "```\n",
        "$ python meu_script.py 5\n",
        "```\n",
        "\n",
        "Saida:\n",
        "```\n",
        "Voce digitou o numero 5.\n",
        "```\n",
        "\n",
        "Codigo-fonte:\n",
        "```\n",
        "import sys\n",
        "entrada = sys.argv[1]\n",
        "print(\"Voce digitou o numero {}.\".format(entrada))\n",
        "```\n",
        "\n",
        "Para receber argumentos direto da linha de comando usamos o\n",
        "\n",
        "```\n",
        "sys.argv[1]\n",
        "```\n",
        "\n",
        "No arquivo \"Downloads/meu_script.py\":\n",
        "```\n",
        "import sys\n",
        "print(sys.argv)\n",
        "```\n",
        "\n",
        "No terminal\n",
        "```\n",
        "hrsdespindula@h8:~/Downloads$ python3 meu_script.py 5 -15 nome 0 sim\n",
        "['meu_script.py', '5', '-15', 'nome', '0', 'sim']\n",
        "```\n",
        "\n",
        "\n",
        "\n",
        "\n",
        "\n",
        "\n",
        "\n"
      ],
      "metadata": {
        "id": "PGC_SisDpZIF"
      }
    },
    {
      "cell_type": "markdown",
      "source": [
        "No arquivo \"Downloads/meu_script.py\":\n",
        "```\n",
        "import sys\n",
        "def fat(n):\n",
        "  res = 1\n",
        "  for i in range(2,n+1):\n",
        "    res *= i\n",
        "  print(res)\n",
        "\n",
        "n = int(sys.argv[1])\n",
        "fat(n)\n",
        "```\n",
        "\n",
        "No terminal:\n",
        "```\n",
        "hrsdespindula@h8:~/Downloads$ python3 meu_script.py 1\n",
        "1\n",
        "hrsdespindula@h8:~/Downloads$ python3 meu_script.py 2\n",
        "2\n",
        "hrsdespindula@h8:~/Downloads$ python3 meu_script.py 3\n",
        "6\n",
        "hrsdespindula@h8:~/Downloads$ python3 meu_script.py 4\n",
        "24\n",
        "```\n",
        "\n",
        "\n",
        "\n",
        "\n"
      ],
      "metadata": {
        "id": "2LPwEp7WsL5o"
      }
    }
  ]
}