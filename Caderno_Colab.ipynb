{
  "nbformat": 4,
  "nbformat_minor": 0,
  "metadata": {
    "colab": {
      "provenance": [],
      "mount_file_id": "1CmS-8mwMpjRS7roM6u_Z7F2sdkjSpjn0",
      "authorship_tag": "ABX9TyPXXgeY2qFTbJeFBv1GtDyx",
      "include_colab_link": true
    },
    "kernelspec": {
      "name": "python3",
      "display_name": "Python 3"
    },
    "language_info": {
      "name": "python"
    }
  },
  "cells": [
    {
      "cell_type": "markdown",
      "metadata": {
        "id": "view-in-github",
        "colab_type": "text"
      },
      "source": [
        "<a href=\"https://colab.research.google.com/github/HelenaDEspindula/DSBD/blob/main/Caderno_Colab.ipynb\" target=\"_parent\"><img src=\"https://colab.research.google.com/assets/colab-badge.svg\" alt=\"Open In Colab\"/></a>"
      ]
    },
    {
      "cell_type": "markdown",
      "source": [
        "Pergunta de Quiz"
      ],
      "metadata": {
        "id": "dvPZKFd_jTVZ"
      }
    },
    {
      "cell_type": "code",
      "execution_count": null,
      "metadata": {
        "colab": {
          "base_uri": "https://localhost:8080/"
        },
        "id": "jbFXm2jEgIlY",
        "outputId": "56128016-4515-4006-9a22-8ad4bcb3d183"
      },
      "outputs": [
        {
          "output_type": "stream",
          "name": "stdout",
          "text": [
            "nome  Maria sobrenome  Silva 6.0\n"
          ]
        }
      ],
      "source": [
        "import math\n",
        "\n",
        "nome = \"Maria\"\n",
        "sobrenome = \"Silva\"\n",
        "calculo = 36\n",
        "calculo = math.sqrt(36)\n",
        "print(\"nome \", nome, \"sobrenome \", sobrenome, calculo)\n",
        "\n"
      ]
    },
    {
      "cell_type": "markdown",
      "source": [
        "Coisas da aula 2\n"
      ],
      "metadata": {
        "id": "26WGdeOJjXqd"
      }
    },
    {
      "cell_type": "code",
      "source": [
        "hrsdespindula@h8:~$ python3\n",
        "Python 3.9.2 (default, Feb 28 2021, 17:03:44)\n",
        "[GCC 10.2.1 20210110] on linux\n",
        "Type \"help\", \"copyright\", \"credits\" or \"license\" for more information.\n",
        ">> quit()\n",
        "\n",
        "\n",
        "hrsdespindula@h8:~$ python3\n",
        "Python 3.9.2 (default, Feb 28 2021, 17:03:44)\n",
        "[GCC 10.2.1 20210110] on linux\n",
        "Type \"help\", \"copyright\", \"credits\" or \"license\" for more information.\n",
        ">>> print(\"SEU TEXTO\")\n",
        "SEU TEXTO\n",
        ">>> print(\"ola mundo\")\n",
        "ola mundo\n",
        "\n",
        "\n",
        "\n",
        "\n"
      ],
      "metadata": {
        "id": "bII5DSGQja1B",
        "colab": {
          "base_uri": "https://localhost:8080/",
          "height": 126
        },
        "outputId": "2829e40a-21b1-47a9-99cb-d755ea3dafd7"
      },
      "execution_count": null,
      "outputs": [
        {
          "output_type": "error",
          "ename": "SyntaxError",
          "evalue": "leading zeros in decimal integer literals are not permitted; use an 0o prefix for octal integers (<ipython-input-2-89d9cdb4ee5d>, line 2)",
          "traceback": [
            "\u001b[0;36m  File \u001b[0;32m\"<ipython-input-2-89d9cdb4ee5d>\"\u001b[0;36m, line \u001b[0;32m2\u001b[0m\n\u001b[0;31m    Python 3.9.2 (default, Feb 28 2021, 17:03:44)\u001b[0m\n\u001b[0m                                           ^\u001b[0m\n\u001b[0;31mSyntaxError\u001b[0m\u001b[0;31m:\u001b[0m leading zeros in decimal integer literals are not permitted; use an 0o prefix for octal integers\n"
          ]
        }
      ]
    },
    {
      "cell_type": "markdown",
      "source": [
        "Realizando Operações<br>\n",
        "O interpretador é capaz de realizar operações e exibir o resultado\n",
        "Alguns operadores que podem ser usados:<br>\n",
        "\"+\" Adição<br>\n",
        "\"-\" Subtração<br>\n",
        "\"/\" Divisão<br>\n",
        "\"*\" Multiplicação<br>\n",
        "\"**\" Exponenciação<br>\n",
        "\"%\" Módulo (resto da divisão)"
      ],
      "metadata": {
        "id": "kG7YRJWGjckY"
      }
    },
    {
      "cell_type": "code",
      "source": [
        "hrsdespindula@h8:~$ python3\n",
        "Python 3.9.2 (default, Feb 28 2021, 17:03:44)\n",
        "[GCC 10.2.1 20210110] on linux\n",
        "Type \"help\", \"copyright\", \"credits\" or \"license\" for more information.\n",
        ">>> print(\"SEU TEXTO\")\n",
        "SEU TEXTO\n",
        ">>> print(\"ola mundo\")\n",
        "ola mundo\n",
        ">>> 2+3\n",
        "5\n",
        ">>> 2-1\n",
        "1\n",
        ">>> 3*2\n",
        "6\n",
        ">>> 15/5\n",
        "3.0\n",
        ">>> 2**3\n",
        "8\n"
      ],
      "metadata": {
        "id": "vK30kTuCkatY"
      },
      "execution_count": null,
      "outputs": []
    },
    {
      "cell_type": "markdown",
      "source": [
        "Fazendo aqui"
      ],
      "metadata": {
        "id": "Pq7JoSGYkuRg"
      }
    },
    {
      "cell_type": "code",
      "source": [
        "print(\"2+3 = \",2+3)\n",
        "print(\"2-1 = \",2-1)\n",
        "print(\"3*2 = \",3*2)\n",
        "print(\"15/5 = \",15/5)\n",
        "print(\"2**3 = \", 2**3)"
      ],
      "metadata": {
        "colab": {
          "base_uri": "https://localhost:8080/"
        },
        "id": "kXOOhF9OkwP8",
        "outputId": "acda89d4-9924-4fe5-d3da-10cf4d0fe24b"
      },
      "execution_count": null,
      "outputs": [
        {
          "output_type": "stream",
          "name": "stdout",
          "text": [
            "2+3 =  5\n",
            "2-1 =  1\n",
            "3*2 =  6\n",
            "15/5 =  3.0\n",
            "2**3 =  8\n"
          ]
        }
      ]
    },
    {
      "cell_type": "code",
      "source": [
        "qtde_alunos = 30\n",
        "nome = \"Maria\"\n",
        "pi = 3.14\n",
        "\n",
        "print(qtde_alunos, \" \", nome, \" \", pi)\n",
        "\n",
        "qtde_alunos = 200\n",
        "alunos_externos = 20\n",
        "total_alunos = qtde_alunos + alunos_externos\n",
        "print(total_alunos)\n",
        "print(qtde_alunos - alunos_externos)\n",
        "\n",
        "print(\"qtde_alunos = \", type(qtde_alunos))\n",
        "print(\"nome = \", type(nome))\n",
        "print(\"pi = \", type(pi))"
      ],
      "metadata": {
        "colab": {
          "base_uri": "https://localhost:8080/"
        },
        "id": "Vrq9M2qklOe-",
        "outputId": "dc41fa45-645e-4664-f553-7ee1f5ba189b"
      },
      "execution_count": null,
      "outputs": [
        {
          "output_type": "stream",
          "name": "stdout",
          "text": [
            "30   Maria   3.14\n",
            "220\n",
            "180\n",
            "qtde_alunos =  <class 'int'>\n",
            "nome =  <class 'str'>\n",
            "pi =  <class 'float'>\n"
          ]
        }
      ]
    },
    {
      "cell_type": "markdown",
      "source": [
        "Tipos dinamico de variavel"
      ],
      "metadata": {
        "id": "1IeLq1uTmvsa"
      }
    },
    {
      "cell_type": "code",
      "source": [
        "x = 20\n",
        "print(\"x = \", x, \" = \", type(x))\n",
        "\n",
        "x = 20.13\n",
        "print(\"x = \", x, \" = \", type(x))\n",
        "\n",
        "x = \"20\"\n",
        "print(\"x = \", x, \" = \", type(x))"
      ],
      "metadata": {
        "colab": {
          "base_uri": "https://localhost:8080/"
        },
        "id": "uOOX7MS4mzp5",
        "outputId": "9224cf38-86ac-46bb-e1e0-d30e0fedef83"
      },
      "execution_count": null,
      "outputs": [
        {
          "output_type": "stream",
          "name": "stdout",
          "text": [
            "x =  20  =  <class 'int'>\n",
            "x =  20.13  =  <class 'float'>\n",
            "x =  20  =  <class 'str'>\n"
          ]
        }
      ]
    },
    {
      "cell_type": "markdown",
      "source": [
        "Concatenar é somar str"
      ],
      "metadata": {
        "id": "2LVWZr-onPaS"
      }
    },
    {
      "cell_type": "code",
      "source": [
        "str1 = \"sou a\"\n",
        "str2 = \" Helena\"\n",
        "x = str1 + str2\n",
        "print(x)\n",
        "\n",
        "print(10*str2)"
      ],
      "metadata": {
        "colab": {
          "base_uri": "https://localhost:8080/"
        },
        "id": "wjWYGxM4nRyK",
        "outputId": "2ee56cb5-1356-4a7a-8a78-998ca14be1f5"
      },
      "execution_count": null,
      "outputs": [
        {
          "output_type": "stream",
          "name": "stdout",
          "text": [
            "sou a Helena\n",
            " Helena Helena Helena Helena Helena Helena Helena Helena Helena Helena\n"
          ]
        }
      ]
    },
    {
      "cell_type": "code",
      "source": [
        "variavel_destino = input(\"Texto opcional para exibir: \")\n",
        "\n",
        "print(variavel_destino)\n"
      ],
      "metadata": {
        "colab": {
          "base_uri": "https://localhost:8080/"
        },
        "id": "fzOOzStsoSw5",
        "outputId": "ff05819a-1bc7-454a-d8cd-7de3b41ec65e"
      },
      "execution_count": null,
      "outputs": [
        {
          "output_type": "stream",
          "name": "stdout",
          "text": [
            "Texto opcional para exibirteste\n",
            "teste\n"
          ]
        }
      ]
    },
    {
      "cell_type": "code",
      "source": [
        "print(\"Olá mundo!\")\n",
        "nome = input(\"Digite seu nome: \")\n",
        "print(\"Seu nome é\", nome)\n",
        "\n",
        "idade = input(\"Digite sua idade: \")\n",
        "idade_apos = input(\"Com quantos anos você quer aposentar: \")\n",
        "anos_apos = idade_apos - idade\n",
        "print(\"Faltam\", anos_apos, \" para você aposentar\")"
      ],
      "metadata": {
        "colab": {
          "base_uri": "https://localhost:8080/",
          "height": 280
        },
        "id": "b4_JDnIgoeEU",
        "outputId": "46967134-3412-4a7a-dd37-1f0e9e47e275"
      },
      "execution_count": null,
      "outputs": [
        {
          "name": "stdout",
          "output_type": "stream",
          "text": [
            "Olá mundo!\n",
            "Digite seu nome: Helena\n",
            "Seu nome é Helena\n",
            "Digite sua idade: 33\n",
            "Com quantos anos você quer aposentar: 70\n"
          ]
        },
        {
          "output_type": "error",
          "ename": "TypeError",
          "evalue": "unsupported operand type(s) for -: 'str' and 'str'",
          "traceback": [
            "\u001b[0;31m---------------------------------------------------------------------------\u001b[0m",
            "\u001b[0;31mTypeError\u001b[0m                                 Traceback (most recent call last)",
            "\u001b[0;32m<ipython-input-25-d3b8f4649b76>\u001b[0m in \u001b[0;36m<cell line: 7>\u001b[0;34m()\u001b[0m\n\u001b[1;32m      5\u001b[0m \u001b[0midade\u001b[0m \u001b[0;34m=\u001b[0m \u001b[0minput\u001b[0m\u001b[0;34m(\u001b[0m\u001b[0;34m\"Digite sua idade: \"\u001b[0m\u001b[0;34m)\u001b[0m\u001b[0;34m\u001b[0m\u001b[0;34m\u001b[0m\u001b[0m\n\u001b[1;32m      6\u001b[0m \u001b[0midade_apos\u001b[0m \u001b[0;34m=\u001b[0m \u001b[0minput\u001b[0m\u001b[0;34m(\u001b[0m\u001b[0;34m\"Com quantos anos você quer aposentar: \"\u001b[0m\u001b[0;34m)\u001b[0m\u001b[0;34m\u001b[0m\u001b[0;34m\u001b[0m\u001b[0m\n\u001b[0;32m----> 7\u001b[0;31m \u001b[0manos_apos\u001b[0m \u001b[0;34m=\u001b[0m \u001b[0midade_apos\u001b[0m \u001b[0;34m-\u001b[0m \u001b[0midade\u001b[0m\u001b[0;34m\u001b[0m\u001b[0;34m\u001b[0m\u001b[0m\n\u001b[0m\u001b[1;32m      8\u001b[0m \u001b[0mprint\u001b[0m\u001b[0;34m(\u001b[0m\u001b[0;34m\"Faltam\"\u001b[0m\u001b[0;34m,\u001b[0m \u001b[0manos_apos\u001b[0m\u001b[0;34m,\u001b[0m \u001b[0;34m\" para você aposentar\"\u001b[0m\u001b[0;34m)\u001b[0m\u001b[0;34m\u001b[0m\u001b[0;34m\u001b[0m\u001b[0m\n",
            "\u001b[0;31mTypeError\u001b[0m: unsupported operand type(s) for -: 'str' and 'str'"
          ]
        }
      ]
    },
    {
      "cell_type": "markdown",
      "source": [
        " não vai dar certo assim pq o tipo automatico tá errado"
      ],
      "metadata": {
        "id": "V9YD-1rooyfL"
      }
    },
    {
      "cell_type": "code",
      "source": [
        "idade = int(input(\"Digite sua idade: \"))\n",
        "idade_apos = int(input(\"Com quantos anos você quer aposentar: \"))\n",
        "anos_apos = idade_apos - idade\n",
        "print(\"Faltam \", anos_apos, \" para você aposentar\")\n",
        "\n",
        "idade = float(input(\"Digite sua idade: \"))\n",
        "idade_apos = float(input(\"Com quantos anos você quer aposentar: \"))\n",
        "anos_apos = idade_apos - idade\n",
        "print(\"Faltam \", anos_apos, \" para você aposentar\")\n",
        "print(\"Faltam\", anos_apos, \"para você aposentar\")"
      ],
      "metadata": {
        "colab": {
          "base_uri": "https://localhost:8080/"
        },
        "id": "cuMLOmaro2ss",
        "outputId": "232758ab-b285-4817-ca54-322a8b49c39b"
      },
      "execution_count": null,
      "outputs": [
        {
          "output_type": "stream",
          "name": "stdout",
          "text": [
            "Digite sua idade: 33\n",
            "Com quantos anos você quer aposentar: 70\n",
            "Faltam  37  para você aposentar\n",
            "Digite sua idade: 50\n",
            "Com quantos anos você quer aposentar: 70\n",
            "Faltam  20.0  para você aposentar\n",
            "Faltam 20.0 para você aposentar\n"
          ]
        }
      ]
    },
    {
      "cell_type": "markdown",
      "source": [
        "\n",
        "Terminal:\n",
        "```\n",
        "$ python meu_script.py 5\n",
        "```\n",
        "\n",
        "Saida:\n",
        "```\n",
        "Voce digitou o numero 5.\n",
        "```\n",
        "\n",
        "Codigo-fonte:\n",
        "```\n",
        "import sys\n",
        "entrada = sys.argv[1]\n",
        "print(\"Voce digitou o numero {}.\".format(entrada))\n",
        "```\n",
        "\n",
        "Para receber argumentos direto da linha de comando usamos o\n",
        "\n",
        "```\n",
        "sys.argv[1]\n",
        "```\n",
        "\n",
        "No arquivo \"Downloads/meu_script.py\":\n",
        "```\n",
        "import sys\n",
        "print(sys.argv)\n",
        "```\n",
        "\n",
        "No terminal\n",
        "```\n",
        "hrsdespindula@h8:~/Downloads$ python3 meu_script.py 5 -15 nome 0 sim\n",
        "['meu_script.py', '5', '-15', 'nome', '0', 'sim']\n",
        "```\n",
        "\n",
        "\n",
        "\n",
        "\n",
        "\n",
        "\n",
        "\n"
      ],
      "metadata": {
        "id": "PGC_SisDpZIF"
      }
    },
    {
      "cell_type": "markdown",
      "source": [
        "No arquivo \"Downloads/meu_script.py\":\n",
        "```\n",
        "import sys\n",
        "def fat(n):\n",
        "  res = 1\n",
        "  for i in range(2,n+1):\n",
        "    res *= i\n",
        "  print(res)\n",
        "\n",
        "n = int(sys.argv[1])\n",
        "fat(n)\n",
        "```\n",
        "\n",
        "No terminal:\n",
        "```\n",
        "hrsdespindula@h8:~/Downloads$ python3 meu_script.py 1\n",
        "1\n",
        "hrsdespindula@h8:~/Downloads$ python3 meu_script.py 2\n",
        "2\n",
        "hrsdespindula@h8:~/Downloads$ python3 meu_script.py 3\n",
        "6\n",
        "hrsdespindula@h8:~/Downloads$ python3 meu_script.py 4\n",
        "24\n",
        "```\n",
        "\n",
        "\n",
        "\n",
        "\n"
      ],
      "metadata": {
        "id": "2LPwEp7WsL5o"
      }
    },
    {
      "cell_type": "markdown",
      "source": [
        "Receba o caminho do arquivo\n",
        "```\n",
        "($ python3 processa_texto.py /Docs/poesia.txt)\n",
        "arq_nome = sys.argv[1]\n",
        "```\n",
        "Abra o arquivo\n",
        "```\n",
        "arq_handle = open(arq_nome)\n",
        "# aberto para leitura!\n",
        "```\n",
        "\n",
        "Leia o arquivo linha por linha\n",
        "```\n",
        "texto = arq_handle.read()\n",
        "```"
      ],
      "metadata": {
        "id": "_-kyf8IVRdw4"
      }
    },
    {
      "cell_type": "code",
      "source": [
        "import sys\n",
        "\n",
        "arq_nome = sys.argv[1] # caminho para arquivo\n",
        "arq_handle = open(arq_nome)# abre para leitura\n",
        "texto = arq_handle.read() # lê para uma string\n",
        "\n",
        "print(texto)\n",
        "print(type(texto))"
      ],
      "metadata": {
        "id": "PPA3Fl1fR-Ly",
        "outputId": "a06eeb38-4fc9-4ba0-8fc3-63513bfa182b",
        "colab": {
          "base_uri": "https://localhost:8080/",
          "height": 332
        }
      },
      "execution_count": null,
      "outputs": [
        {
          "output_type": "error",
          "ename": "FileNotFoundError",
          "evalue": "[Errno 2] No such file or directory: '-f'",
          "traceback": [
            "\u001b[0;31m---------------------------------------------------------------------------\u001b[0m",
            "\u001b[0;31mFileNotFoundError\u001b[0m                         Traceback (most recent call last)",
            "\u001b[0;32m<ipython-input-1-5b70333b5538>\u001b[0m in \u001b[0;36m<cell line: 4>\u001b[0;34m()\u001b[0m\n\u001b[1;32m      2\u001b[0m \u001b[0;34m\u001b[0m\u001b[0m\n\u001b[1;32m      3\u001b[0m \u001b[0marq_nome\u001b[0m \u001b[0;34m=\u001b[0m \u001b[0msys\u001b[0m\u001b[0;34m.\u001b[0m\u001b[0margv\u001b[0m\u001b[0;34m[\u001b[0m\u001b[0;36m1\u001b[0m\u001b[0;34m]\u001b[0m \u001b[0;31m# caminho para arquivo\u001b[0m\u001b[0;34m\u001b[0m\u001b[0;34m\u001b[0m\u001b[0m\n\u001b[0;32m----> 4\u001b[0;31m \u001b[0marq_handle\u001b[0m \u001b[0;34m=\u001b[0m \u001b[0mopen\u001b[0m\u001b[0;34m(\u001b[0m\u001b[0marq_nome\u001b[0m\u001b[0;34m)\u001b[0m\u001b[0;31m# abre para leitura\u001b[0m\u001b[0;34m\u001b[0m\u001b[0;34m\u001b[0m\u001b[0m\n\u001b[0m\u001b[1;32m      5\u001b[0m \u001b[0mtexto\u001b[0m \u001b[0;34m=\u001b[0m \u001b[0marq_handle\u001b[0m\u001b[0;34m.\u001b[0m\u001b[0mread\u001b[0m\u001b[0;34m(\u001b[0m\u001b[0;34m)\u001b[0m \u001b[0;31m# lê para uma string\u001b[0m\u001b[0;34m\u001b[0m\u001b[0;34m\u001b[0m\u001b[0m\n\u001b[1;32m      6\u001b[0m \u001b[0;34m\u001b[0m\u001b[0m\n",
            "\u001b[0;31mFileNotFoundError\u001b[0m: [Errno 2] No such file or directory: '-f'"
          ]
        }
      ]
    },
    {
      "cell_type": "code",
      "source": [
        "\n",
        "#READ\n",
        "\n",
        "import sys\n",
        "\n",
        "texto = open(sys.argv[1]).read()\n",
        "linhas = texto.split(\"\\n\")\n",
        "\n",
        "print(linhas)\n",
        "print(type(linhas))"
      ],
      "metadata": {
        "id": "z-p9XvMPSXxA"
      },
      "execution_count": null,
      "outputs": []
    },
    {
      "cell_type": "code",
      "source": [
        "#READLINE (SINGULAR)\n",
        "\n",
        "import sys\n",
        "\n",
        "texto = open(sys.argv[1]).readline()\n",
        "linhas = texto.split(\"\\n\")\n",
        "\n",
        "print(linhas)\n",
        "print(type(linhas))"
      ],
      "metadata": {
        "id": "pbPSU4h_S3EZ"
      },
      "execution_count": null,
      "outputs": []
    },
    {
      "cell_type": "code",
      "source": [
        "#READLINES\n",
        "\n",
        "import sys\n",
        "\n",
        "texto = open(sys.argv[1]).readlines()\n",
        "linhas = texto.split(\"\\n\")\n",
        "\n",
        "print(linhas)\n",
        "print(type(linhas))"
      ],
      "metadata": {
        "id": "B94Y-P3gSstz"
      },
      "execution_count": null,
      "outputs": []
    },
    {
      "cell_type": "code",
      "source": [
        "import sys\n",
        "\n",
        "texto = open(sys.argv[1]).read().sliptlines()\n",
        "\n",
        "print(texto)\n",
        "print(type(texto))"
      ],
      "metadata": {
        "id": "od8IsZK9TQ-d",
        "colab": {
          "base_uri": "https://localhost:8080/",
          "height": 216
        },
        "outputId": "f9e23d4c-e2f1-4572-b2ab-8f74990973d3"
      },
      "execution_count": null,
      "outputs": [
        {
          "output_type": "error",
          "ename": "FileNotFoundError",
          "evalue": "[Errno 2] No such file or directory: '-f'",
          "traceback": [
            "\u001b[0;31m---------------------------------------------------------------------------\u001b[0m",
            "\u001b[0;31mFileNotFoundError\u001b[0m                         Traceback (most recent call last)",
            "\u001b[0;32m<ipython-input-7-381f31e5c4f9>\u001b[0m in \u001b[0;36m<cell line: 3>\u001b[0;34m()\u001b[0m\n\u001b[1;32m      1\u001b[0m \u001b[0;32mimport\u001b[0m \u001b[0msys\u001b[0m\u001b[0;34m\u001b[0m\u001b[0;34m\u001b[0m\u001b[0m\n\u001b[1;32m      2\u001b[0m \u001b[0;34m\u001b[0m\u001b[0m\n\u001b[0;32m----> 3\u001b[0;31m \u001b[0mtexto\u001b[0m \u001b[0;34m=\u001b[0m \u001b[0mopen\u001b[0m\u001b[0;34m(\u001b[0m\u001b[0msys\u001b[0m\u001b[0;34m.\u001b[0m\u001b[0margv\u001b[0m\u001b[0;34m[\u001b[0m\u001b[0;36m1\u001b[0m\u001b[0;34m]\u001b[0m\u001b[0;34m)\u001b[0m\u001b[0;34m.\u001b[0m\u001b[0mread\u001b[0m\u001b[0;34m(\u001b[0m\u001b[0;34m)\u001b[0m\u001b[0;34m.\u001b[0m\u001b[0msliptlines\u001b[0m\u001b[0;34m(\u001b[0m\u001b[0;34m)\u001b[0m\u001b[0;34m\u001b[0m\u001b[0;34m\u001b[0m\u001b[0m\n\u001b[0m\u001b[1;32m      4\u001b[0m \u001b[0;34m\u001b[0m\u001b[0m\n\u001b[1;32m      5\u001b[0m \u001b[0mprint\u001b[0m\u001b[0;34m(\u001b[0m\u001b[0mtexto\u001b[0m\u001b[0;34m)\u001b[0m\u001b[0;34m\u001b[0m\u001b[0;34m\u001b[0m\u001b[0m\n",
            "\u001b[0;31mFileNotFoundError\u001b[0m: [Errno 2] No such file or directory: '-f'"
          ]
        }
      ]
    },
    {
      "cell_type": "code",
      "source": [
        "import sys\n",
        "\n",
        "arq = open(sys.argv[1])\n",
        "texto = arq.read().splitlines()\n",
        "\n",
        "print(texto)\n",
        "print(type(texto))\n",
        "\n",
        "arq.close() # não esqueça de fechar o arquivo"
      ],
      "metadata": {
        "id": "TtRSmVKGTsC4",
        "colab": {
          "base_uri": "https://localhost:8080/",
          "height": 216
        },
        "outputId": "d16bbe53-5912-43aa-aa25-07f16180eb92"
      },
      "execution_count": null,
      "outputs": [
        {
          "output_type": "error",
          "ename": "FileNotFoundError",
          "evalue": "[Errno 2] No such file or directory: '-f'",
          "traceback": [
            "\u001b[0;31m---------------------------------------------------------------------------\u001b[0m",
            "\u001b[0;31mFileNotFoundError\u001b[0m                         Traceback (most recent call last)",
            "\u001b[0;32m<ipython-input-8-fb372cee08ab>\u001b[0m in \u001b[0;36m<cell line: 3>\u001b[0;34m()\u001b[0m\n\u001b[1;32m      1\u001b[0m \u001b[0;32mimport\u001b[0m \u001b[0msys\u001b[0m\u001b[0;34m\u001b[0m\u001b[0;34m\u001b[0m\u001b[0m\n\u001b[1;32m      2\u001b[0m \u001b[0;34m\u001b[0m\u001b[0m\n\u001b[0;32m----> 3\u001b[0;31m \u001b[0marq\u001b[0m \u001b[0;34m=\u001b[0m \u001b[0mopen\u001b[0m\u001b[0;34m(\u001b[0m\u001b[0msys\u001b[0m\u001b[0;34m.\u001b[0m\u001b[0margv\u001b[0m\u001b[0;34m[\u001b[0m\u001b[0;36m1\u001b[0m\u001b[0;34m]\u001b[0m\u001b[0;34m)\u001b[0m\u001b[0;34m\u001b[0m\u001b[0;34m\u001b[0m\u001b[0m\n\u001b[0m\u001b[1;32m      4\u001b[0m \u001b[0mtexto\u001b[0m \u001b[0;34m=\u001b[0m \u001b[0marq\u001b[0m\u001b[0;34m.\u001b[0m\u001b[0mread\u001b[0m\u001b[0;34m(\u001b[0m\u001b[0;34m)\u001b[0m\u001b[0;34m.\u001b[0m\u001b[0msplitlines\u001b[0m\u001b[0;34m(\u001b[0m\u001b[0;34m)\u001b[0m\u001b[0;34m\u001b[0m\u001b[0;34m\u001b[0m\u001b[0m\n\u001b[1;32m      5\u001b[0m \u001b[0;34m\u001b[0m\u001b[0m\n",
            "\u001b[0;31mFileNotFoundError\u001b[0m: [Errno 2] No such file or directory: '-f'"
          ]
        }
      ]
    },
    {
      "cell_type": "markdown",
      "source": [
        "Modos de escrita de arquivos\n",
        "\n",
        "```\n",
        "arq_saida = open(sys.argv[2], 'w')\n",
        "```\n",
        "\n",
        "‘w’ abre o arquivo em modo escrita <br>\n",
        "Se o arquivo *não* existir, cria um novo<br>\n",
        "Senão, sobrescreve!\n",
        "\n",
        "```\n",
        "arq_saida = open(sys.argv[2], 'a')\n",
        "```\n",
        "\n",
        "‘a’ abre o arquivo em modo append <br>\n",
        "Se o arquivo *não* existir, cria um novo<br>\n",
        "Senão, insere no final!<br>"
      ],
      "metadata": {
        "id": "cl1g7kOWT87Q"
      }
    },
    {
      "cell_type": "markdown",
      "source": [
        "<h1>Importações</h1>\n",
        "\n",
        "```\n",
        "import nome_atquivo # tipo biblioteca R\n",
        "```"
      ],
      "metadata": {
        "id": "DVdd7xHSUpwb"
      }
    },
    {
      "cell_type": "code",
      "source": [
        "import math\n",
        "\n",
        "valor = 4\n",
        "raiz = math.sqrt(valor)\n",
        "print(\"A raiz de \", valor, \"é\", raiz)"
      ],
      "metadata": {
        "id": "eeAkYBYhVC5F",
        "outputId": "cde3bcb6-49b5-4d9c-ff98-e66ce2112597",
        "colab": {
          "base_uri": "https://localhost:8080/"
        }
      },
      "execution_count": null,
      "outputs": [
        {
          "output_type": "stream",
          "name": "stdout",
          "text": [
            "A raiz de  4 é 2.0\n"
          ]
        }
      ]
    },
    {
      "cell_type": "markdown",
      "source": [
        "Comentários precedidos por \"#\"\n",
        "\n",
        "Função básica - print()\n",
        "O comando print( ): ► Sintaxe: ► print(valor1, valor2, …, valorN) ► Se nenhum argumento é passado, imprime uma linha em branco ► Os valores a serem impressos são separados por um espaço: − print(\"Resposta:\", 6 * 7, \"!!!\")\n",
        "\n",
        "Condicionais básicos ► if (condição): ► Instrução 1 ► Instrução 2 ► elif (outra condição): ► Instrução 3 ► else: ► Instrução 4 ► Instrução 5 (fora do IF-ELIF-ELSE)\n",
        "\n",
        "Laços básicos ► for i in range(5): ► print(\"%d \" %i) ► 0 ► 1 ► 2 ► 3 ► 4 ► while True: ► print(\"laço infinito!\")"
      ],
      "metadata": {
        "id": "Uo2vxIXCVuAL"
      }
    },
    {
      "cell_type": "markdown",
      "source": [
        "Exercício 1\n",
        "\n",
        "Faça um programa que pergunta o peso (em kg) e a altura (em metros) do usuário. O programa deve calcular o Índice de Massa Corpórea (IMC) do usuário, que é dado por peso/(altura*altura) e exibir o valor de IMC na tela.\n",
        "\n",
        "Dica: use float para ler o input. Para separar as casas decimais quando estiver digitando, utilize ponto (e.g., digite 1.8 para uma altura de um e oitenta). Isso pode ser diferente em alguns sistemas. Por exemplo, alguns terminais de sistemas Mac utilizam vírgula para separar as casas decimais."
      ],
      "metadata": {
        "id": "oeGPa8rPWB8W"
      }
    },
    {
      "cell_type": "code",
      "source": [
        "import sys\n",
        "\n",
        "peso = float(input(\"insira seu peso em kg: \"))\n",
        "\n",
        "altura = float(input(\"insira sua altura em m: \"))\n",
        "\n",
        "imc = (peso / (altura * altura))\n",
        "\n",
        "print(\"Seu IMC =\", imc)"
      ],
      "metadata": {
        "id": "QevT3sejWIww",
        "outputId": "1d2985fb-3b10-4798-ce7c-f6e15ef78e01",
        "colab": {
          "base_uri": "https://localhost:8080/"
        }
      },
      "execution_count": null,
      "outputs": [
        {
          "output_type": "stream",
          "name": "stdout",
          "text": [
            "insira seu peso em kg: 70\n",
            "insira sua altura em m: 1.54\n",
            "Seu IMC = 29.515938606847698\n"
          ]
        }
      ]
    },
    {
      "cell_type": "markdown",
      "source": [
        "Exercício 2 <br>\n",
        "Escreva um programa que solicita o raio de um círculo, e exibe o perímetro e a área desse círculo. Para calcular a área, utilize o operador de exponenciação **."
      ],
      "metadata": {
        "id": "XGINxMHoYVI6"
      }
    },
    {
      "cell_type": "code",
      "source": [
        "import sys\n",
        "import math\n",
        "\n",
        "raio = float(input(\"insira um raio de um círculo: \"))\n",
        "pi = math.pi\n",
        "perimetro = 2*pi*raio\n",
        "area = pi * raio**2\n",
        "\n",
        "print (pi)\n",
        "print (perimetro)\n",
        "print (area)"
      ],
      "metadata": {
        "id": "xthBpx_eY9Ve"
      },
      "execution_count": null,
      "outputs": []
    },
    {
      "cell_type": "markdown",
      "source": [
        "\n",
        "Exercício 3\n",
        "\n",
        "Faça um programa que leia os coeficientes a, b e c de uma equação de segundo grau. O programa deve calcular por Bhaskara as raízes dessa equação. Para esse problema, assuma que a equação sempre vai ter raízes reais (o usuário não vai digitar valores a, b e c que levam a uma equação que não possui raízes). Caso a equação possua apenas uma raiz, como a equação x2, repita a raiz na resposta duas vezes.\n",
        "\n",
        "Exemplo de execução do programa:\n",
        "\n",
        "Digite a: 2 Digite b: 0 Digite c: 0 Raíz 1: 0 Raíz 2: 0"
      ],
      "metadata": {
        "id": "I0sVlA7Uaiyg"
      }
    },
    {
      "cell_type": "code",
      "source": [
        "import sys\n",
        "import math\n",
        "\n",
        "coef_a = float(input(\"Digite a: \"))\n",
        "coef_b = float(input(\"Digite b: \"))\n",
        "coef_c = float(input(\"Digite c: \"))\n",
        "\n",
        "raiz_1 = (- coef_b + math.sqrt(coef_b**2 - 4*coef_a*coef_c))/2*coef_a\n",
        "raiz_2 = (- coef_b - math.sqrt(coef_b**2 - 4*coef_a*coef_c))/2*coef_a\n",
        "\n",
        "print(\"Raiz 1:\", raiz_1)\n",
        "print(\"Raiz 2:\", raiz_2)"
      ],
      "metadata": {
        "id": "3FZ6-i4PbE7v"
      },
      "execution_count": null,
      "outputs": []
    },
    {
      "cell_type": "markdown",
      "source": [
        "Exercício 4\n",
        "\n",
        "Dado um retângulo de lado a=7 e área=63, escreva:\n",
        "\n",
        "Uma instrução em Python que calcule o valor do lado b.\n",
        "\n",
        "Uma instrução que calcule a diagonal deste retângulo.\n",
        "\n",
        "Uma função que calcule a área e a diagonal de qualquer retângulo, dados os valores dos lados a e b."
      ],
      "metadata": {
        "id": "YJaImhisdKqN"
      }
    },
    {
      "cell_type": "code",
      "source": [
        "import sys\n",
        "import math\n",
        "\n",
        "lado_a = float(input(\"insira o lado de um retangulo: \"))\n",
        "#lado_a = 7\n",
        "area = float(input(\"insira a area um retangulo: \"))\n",
        "#area = 63\n",
        "\n",
        "lado_b = area / lado_a\n",
        "print(\"O lado B = \", lado_b)\n",
        "\n",
        "diagonal = math.sqrt(lado_a**2 + lado_b**2)\n",
        "print(\"Diagonal = \", diagonal)\n"
      ],
      "metadata": {
        "colab": {
          "base_uri": "https://localhost:8080/"
        },
        "id": "kF1AUjYhyrQZ",
        "outputId": "19c96ee0-75b6-4830-8caa-9b0949dc9ef7"
      },
      "execution_count": 81,
      "outputs": [
        {
          "output_type": "stream",
          "name": "stdout",
          "text": [
            "insira o lado de um retangulo: 7\n",
            "insira a area um retangulo: 63\n",
            "O lado B =  9.0\n",
            "Diagonal =  11.40175425099138\n"
          ]
        }
      ]
    },
    {
      "cell_type": "markdown",
      "source": [
        "Silde 1b - Exercícios\n",
        "\n",
        "1. Refaça o exercício da fórmula de Bhaskara da seguinte forma:\n",
        "\n",
        "a. Com quatro raízes de saída (x1_0 e x2_0, com o resultado real, e x1_1 e x2_1 com resultado arredondado para baixo);\n",
        "\n",
        "b. Use funções do módulo math, sempre que possível;\n",
        "\n",
        "c. Calcule o erro resultante do arredondamento.\n",
        "\n",
        "2. Escreva uma instrução que calcule a raiz cúbica de uma variável \"x\".\n",
        "3. Qual o resultado da expressão \"23+7*50\"?\n",
        "a. Como obter o resultado 1500 da expressão acima? Escreva essa instrução em\n",
        "Python.\n",
        "\n",
        "4. Como saber se um número é par ou ímpar? Escreva uma instrução que resolva esse\n",
        "problema.\n",
        "5. Escreva uma instrução que calcule a área de um círculo (use função pow())"
      ],
      "metadata": {
        "id": "EcIi7VGY0YTb"
      }
    },
    {
      "cell_type": "markdown",
      "source": [
        "Silde 1c - Exercicios\n",
        "\n",
        "1. Defina a variável \"nome\" e atribua a ela o nome de uma pessoa. Depois imprima o nome da pessoa no lugar de ‘fulano’ na mensagem:\n",
        "\n",
        "a. \"Oi fulano, vamos aprender Python?\"\n",
        "\n",
        "b. Imprima a mensagem em maiúsculo.\n",
        "\n",
        "2. Imprima a citação a seguir em uma linha e seu autor na linha seguinte, deslocado três\n",
        "tabs à direita: \"No Brasil, quando o feriado é religioso, até ateu comemora\", Jô Soares\n",
        "3. Imprima a mensagem \"O resultado da fórmula de Bhaskara é:\" e o resultado\n",
        "\n",
        "a. Em seguida da mensagem\n",
        "\n",
        "b. Abaixo da mensagem\n",
        "\n",
        "c. Como uma string formatada com a, b, c, e as raízes, cada um em uma linha\n",
        "\n",
        "4. Faça os exercícios 1, 2 e 3 com impressão \"simples\" e usando format."
      ],
      "metadata": {
        "id": "nanuv5AO1WoX"
      }
    },
    {
      "cell_type": "markdown",
      "source": [
        "<h1> Aula 2 - Python 3: Estruturas\n",
        "Condicionais e de Repetição - André Grégio</h1>\n",
        "\n",
        "<h2>Testes Condicionais</h2>\n",
        "\n",
        "<h3>Comando IF</h3>"
      ],
      "metadata": {
        "id": "kMbu40dLOa6t"
      }
    },
    {
      "cell_type": "code",
      "source": [
        "carro1 = \"Honda\"\n",
        "carro2 = \"Toyota\"\n",
        "print(carro1 == carro2)"
      ],
      "metadata": {
        "colab": {
          "base_uri": "https://localhost:8080/"
        },
        "id": "uaagi5LJ2mBy",
        "outputId": "157829b2-539c-4f55-d39a-a6f8095e2485"
      },
      "execution_count": 83,
      "outputs": [
        {
          "output_type": "stream",
          "name": "stdout",
          "text": [
            "False\n"
          ]
        }
      ]
    },
    {
      "cell_type": "code",
      "source": [
        "carro1 = \"Honda\"\n",
        "carro2 = \"honda\"\n",
        "print(carro1 == carro2)"
      ],
      "metadata": {
        "colab": {
          "base_uri": "https://localhost:8080/"
        },
        "id": "CNnOBIlb2wMw",
        "outputId": "e170d53f-a2ce-4b5d-d9ea-7f6e7d63718e"
      },
      "execution_count": 84,
      "outputs": [
        {
          "output_type": "stream",
          "name": "stdout",
          "text": [
            "False\n"
          ]
        }
      ]
    },
    {
      "cell_type": "code",
      "source": [
        "carro1 = \"Honda\"\n",
        "carro2 = \"honda\"\n",
        "print(carro1.lower() == carro2)"
      ],
      "metadata": {
        "colab": {
          "base_uri": "https://localhost:8080/"
        },
        "id": "EWgZRu4u22dB",
        "outputId": "14d1bb91-a14f-4e4f-89cd-697ebcf865ee"
      },
      "execution_count": 85,
      "outputs": [
        {
          "output_type": "stream",
          "name": "stdout",
          "text": [
            "True\n"
          ]
        }
      ]
    },
    {
      "cell_type": "code",
      "source": [
        "carro = \"suzuki\"\n",
        "\n",
        "if (carro.title() == \"Suzuki\"):\n",
        "  print(\"Acertou!\")"
      ],
      "metadata": {
        "colab": {
          "base_uri": "https://localhost:8080/"
        },
        "id": "rt9pwh7P29IK",
        "outputId": "e61751c1-8d02-4c44-9265-e9c7a00eb600"
      },
      "execution_count": 89,
      "outputs": [
        {
          "output_type": "stream",
          "name": "stdout",
          "text": [
            "Acertou!\n"
          ]
        }
      ]
    },
    {
      "cell_type": "code",
      "source": [
        "entrou = True\n",
        "\n",
        "print(\"1\")\n",
        "\n",
        "if (entrou):\n",
        "  print(\"Dentro do if\")\n",
        "else:\n",
        "  print(\"Fora do if\")\n",
        "\n",
        "\n",
        "print(\"\\n2\")\n",
        "entrou = False\n",
        "\n",
        "if (entrou):\n",
        "  print(\"Dentro do if\")\n",
        "else:\n",
        "  print(\"Fora do if\")"
      ],
      "metadata": {
        "colab": {
          "base_uri": "https://localhost:8080/"
        },
        "id": "7PEQyv6x3VB3",
        "outputId": "aa89e918-8a2a-4523-faa6-16b271bfb774"
      },
      "execution_count": 96,
      "outputs": [
        {
          "output_type": "stream",
          "name": "stdout",
          "text": [
            "1\n",
            "Dentro do if\n",
            "\n",
            "2\n",
            "Fora do if\n"
          ]
        }
      ]
    },
    {
      "cell_type": "code",
      "source": [
        "resposta = int(input(\"Qual a resposta para tudo?\\nR.: \"))\n",
        "if resposta != 42:\n",
        "  print(\"Errou, tente novamente!\")"
      ],
      "metadata": {
        "id": "N_F2tVS83yT3"
      },
      "execution_count": null,
      "outputs": []
    },
    {
      "cell_type": "code",
      "source": [
        "idade = int(input(\"Digite sua idade: \"))\n",
        "if idade >= 18:\n",
        "  print(\"Pode dirigir no Brasil...\")\n",
        "if idade < 18:\n",
        "  print(\"Não pode dirigir no Brasil!\")\n",
        "if idade > 15:\n",
        "  print(\"Pode dirigir nos EUA...\")\n",
        "if idade >= 16 and idade < 21:\n",
        "  print(\"Pode dirigir, mas não comprar álcool nos EUA\")"
      ],
      "metadata": {
        "id": "vOnlBdM432b8"
      },
      "execution_count": null,
      "outputs": []
    },
    {
      "cell_type": "code",
      "source": [
        "if (idade >= 16) and (idade < 21):\n",
        "  print(\"Pode dirigir, mas não entrar na balada nos EUA\")\n",
        "# Uso de parênteses melhora legibilidade do código!"
      ],
      "metadata": {
        "id": "2BzL8pku348w"
      },
      "execution_count": null,
      "outputs": []
    },
    {
      "cell_type": "code",
      "source": [
        "if ((pessoa1 >= 18) or (pessoa2 >= 18)):\n",
        "  print(\"Menor pode entrar no cinema acompanhado por pais ou\n",
        "tutor\")"
      ],
      "metadata": {
        "id": "dYYJeXoL4vuZ"
      },
      "execution_count": null,
      "outputs": []
    },
    {
      "cell_type": "code",
      "source": [
        "if ((pessoa1 >= 18) or (pessoa2 >= 18)) and ((papel1 == ‘responsável’) or\n",
        "(papel2 == ‘responsável’)):\n",
        "  print(\"Menor pode entrar no cinema acompanhado por pais ou tutor\")"
      ],
      "metadata": {
        "id": "eo41VHty41SD"
      },
      "execution_count": null,
      "outputs": []
    },
    {
      "cell_type": "code",
      "source": [
        "if ((pessoa1 >= 18) or (pessoa2 >= 18))\n",
        "  and\n",
        "  ((papel1 == ‘responsável’) or (papel2 == ‘responsável’))\n",
        "  and not\n",
        "  ((pessoa1 < 12) or (pessoa2 < 12)):\n",
        "    print(\"Ambos assistem o filme no cinema...\")"
      ],
      "metadata": {
        "id": "jAAgp_eK4-E2"
      },
      "execution_count": null,
      "outputs": []
    },
    {
      "cell_type": "markdown",
      "source": [
        "<h3>Condicionais - Múltiplos/Aninhados</h3>"
      ],
      "metadata": {
        "id": "Q08EDI7T2g_B"
      }
    },
    {
      "cell_type": "code",
      "source": [
        "#idade = int(input(\"Digite sua idade: \"))\n",
        "\n",
        "idade = 17\n",
        "if (idade > 16 or idade >= 70):\n",
        "  print(\"Pode votar!\")\n",
        "  print(\"Já fez seu título de eleitor?\")\n",
        "if (idade >= 18 and idade < 70):\n",
        "  print(\"Na sua idade, o voto é obrigatório.\")\n",
        "if (idade < 16):\n",
        "  print(\"Você ainda não pode votar\")"
      ],
      "metadata": {
        "id": "255JqaOe2V6v"
      },
      "execution_count": null,
      "outputs": []
    },
    {
      "cell_type": "code",
      "source": [
        "#idade = int(input(\"Digite sua idade: \"))\n",
        "\n",
        "idade = 16\n",
        "if (idade > 16 or idade >= 70):\n",
        "  print(\"Pode votar!\")\n",
        "  print(\"Já fez seu título de eleitor?\")\n",
        "if (idade >= 18 and idade < 70):\n",
        "  print(\"Na sua idade, o voto é obrigatório.\")\n",
        "if (idade < 16):\n",
        "  print(\"Você ainda não pode votar\")"
      ],
      "metadata": {
        "colab": {
          "base_uri": "https://localhost:8080/",
          "height": 106
        },
        "id": "PoB40YjH5fvW",
        "outputId": "e2f63b6f-94da-41eb-ff19-9f4ed8675d77"
      },
      "execution_count": 101,
      "outputs": [
        {
          "output_type": "error",
          "ename": "SyntaxError",
          "evalue": "invalid character '“' (U+201C) (<ipython-input-101-daaaae689549>, line 5)",
          "traceback": [
            "\u001b[0;36m  File \u001b[0;32m\"<ipython-input-101-daaaae689549>\"\u001b[0;36m, line \u001b[0;32m5\u001b[0m\n\u001b[0;31m    print(“Pode votar!”)\u001b[0m\n\u001b[0m          ^\u001b[0m\n\u001b[0;31mSyntaxError\u001b[0m\u001b[0;31m:\u001b[0m invalid character '“' (U+201C)\n"
          ]
        }
      ]
    },
    {
      "cell_type": "code",
      "source": [
        "idade = int(input(\"Digite sua idade: \"))\n",
        "if (idade >= 16):\n",
        "  print(\"Você pode votar!\")\n",
        "else:\n",
        "  print(\"Você ainda não pode votar!\")"
      ],
      "metadata": {
        "id": "TTfpQ9425n-M"
      },
      "execution_count": null,
      "outputs": []
    },
    {
      "cell_type": "markdown",
      "source": [],
      "metadata": {
        "id": "XU2VV35e2VWY"
      }
    },
    {
      "cell_type": "code",
      "source": [
        "import sys\n",
        "\n",
        "arq_nome = \"dsbd_trab1.csv\" # caminho para arquivo\n",
        "\n",
        "arq_handle = open(arq_nome) # abre para leitura\n",
        "\n",
        "texto = arq_handle.read() # lê para uma string\n",
        "\n",
        "print(texto[0:300]) # vai imprimir demais sem a restrição de primeiros 300\n",
        "\n",
        "#print(linhas)\n",
        "#print(type(linhas))"
      ],
      "metadata": {
        "colab": {
          "base_uri": "https://localhost:8080/"
        },
        "id": "RNx8l-VOOfzI",
        "outputId": "fd8d5df2-0475-4f72-87cb-b742952dbcf0"
      },
      "execution_count": null,
      "outputs": [
        {
          "output_type": "stream",
          "name": "stdout",
          "text": [
            "date(mmddyyyy):01062022,srcIP:13.37.246.222,srcPort:20779,dstIP:27.90.122.105,dstPort:80,protocol:TCP,priority:3,IDSID:[5:9630043:1],SignatureGroup:yahoo,Classification:yahoo-group\n",
            "date(mmddyyyy):01062022,srcIP:51.244.132.150,srcPort:9273,dstIP:11.17.210.24,dstPort:443,protocol:TCP,priority:3,IDSID:\n"
          ]
        }
      ]
    },
    {
      "cell_type": "code",
      "source": [
        "import sys\n",
        "\n",
        "arq_nome = \"dsbd_trab1.csv\" # caminho para arquivo\n",
        "\n",
        "texto = open(arq_nome).read()\n",
        "linhas = texto.split(\"\\n\")\n",
        "\n",
        "print(linhas[0:3], \"\\n\")\n",
        "print(type(linhas))"
      ],
      "metadata": {
        "colab": {
          "base_uri": "https://localhost:8080/"
        },
        "id": "TEcvDTd3QHIP",
        "outputId": "274cffd6-aff6-416c-8acf-2ae51f26c1b0"
      },
      "execution_count": 19,
      "outputs": [
        {
          "output_type": "stream",
          "name": "stdout",
          "text": [
            "['date(mmddyyyy):01062022,srcIP:13.37.246.222,srcPort:20779,dstIP:27.90.122.105,dstPort:80,protocol:TCP,priority:3,IDSID:[5:9630043:1],SignatureGroup:yahoo,Classification:yahoo-group', 'date(mmddyyyy):01062022,srcIP:51.244.132.150,srcPort:9273,dstIP:11.17.210.24,dstPort:443,protocol:TCP,priority:3,IDSID:[16:9000012:1],SignatureGroup:twitter,Classification:twitter-group', 'date(mmddyyyy):01062022,srcIP:25.44.57.51,srcPort:29963,dstIP:1.233.229.226,dstPort:443,protocol:TCP,priority:3,IDSID:[7:9000015:1],SignatureGroup:telegram,Classification:telegram-group'] \n",
            "\n",
            "<class 'list'>\n"
          ]
        }
      ]
    },
    {
      "cell_type": "code",
      "source": [
        "for i in range(6):\n",
        "  print(i)"
      ],
      "metadata": {
        "colab": {
          "base_uri": "https://localhost:8080/"
        },
        "id": "TnCfqJw2Uf5p",
        "outputId": "98905098-138d-41ff-9918-73c0f884e9de"
      },
      "execution_count": 20,
      "outputs": [
        {
          "output_type": "stream",
          "name": "stdout",
          "text": [
            "0\n",
            "1\n",
            "2\n",
            "3\n",
            "4\n",
            "5\n"
          ]
        }
      ]
    },
    {
      "cell_type": "code",
      "source": [],
      "metadata": {
        "id": "Wnqlb2xj5ulM"
      },
      "execution_count": null,
      "outputs": []
    },
    {
      "cell_type": "markdown",
      "source": [
        "<h2>Funções</h2>\n",
        "\n",
        "<h3>Fatorial</h3>"
      ],
      "metadata": {
        "id": "ncEvCaqy38xr"
      }
    },
    {
      "cell_type": "code",
      "source": [
        "def fatorial(n):\n",
        "  if(n<=0):\n",
        "    return 1\n",
        "  return n*fatorial(n-1)\n",
        "\n",
        "\n",
        "print(fatorial(5))"
      ],
      "metadata": {
        "colab": {
          "base_uri": "https://localhost:8080/"
        },
        "id": "mCJXm4tD39IV",
        "outputId": "b0f6772b-274c-44b0-b686-829caa0be858"
      },
      "execution_count": 100,
      "outputs": [
        {
          "output_type": "stream",
          "name": "stdout",
          "text": [
            "120\n"
          ]
        }
      ]
    },
    {
      "cell_type": "code",
      "source": [
        "# ARQUIVO main_fat.py\n",
        "\n",
        "import sys\n",
        "import fatorial\n",
        "\n",
        "n = int(sys.argv[1])\n",
        "\n",
        "with open(sys.argv[2], 'a') as arq_saida:\n",
        "  arq_saida.write(str(fatorial.fat(n))+\"\\n\")"
      ],
      "metadata": {
        "id": "V9yadkUs581u"
      },
      "execution_count": null,
      "outputs": []
    },
    {
      "cell_type": "code",
      "source": [
        "No terminal\n",
        "\n",
        "> python3 main_fat.py 4 res.txt\n",
        "> python3 main_fat.py 0 res.txt\n",
        "> python3 main_fat.py -9 res.txt\n",
        "> python3 main_fat.py 5 res.txt"
      ],
      "metadata": {
        "colab": {
          "base_uri": "https://localhost:8080/",
          "height": 106
        },
        "id": "s1X06w5t6mw5",
        "outputId": "7089a5ac-28b2-4991-a9fc-fa5ce6c761d0"
      },
      "execution_count": 103,
      "outputs": [
        {
          "output_type": "error",
          "ename": "SyntaxError",
          "evalue": "invalid syntax (<ipython-input-103-c44a65860549>, line 1)",
          "traceback": [
            "\u001b[0;36m  File \u001b[0;32m\"<ipython-input-103-c44a65860549>\"\u001b[0;36m, line \u001b[0;32m1\u001b[0m\n\u001b[0;31m    python3 main_fat.py 4 res.txt\u001b[0m\n\u001b[0m            ^\u001b[0m\n\u001b[0;31mSyntaxError\u001b[0m\u001b[0;31m:\u001b[0m invalid syntax\n"
          ]
        }
      ]
    },
    {
      "cell_type": "markdown",
      "source": [
        "<h2>Listas</h2>\n",
        "\n",
        "No python a Lista é array de ponteiros (tanto faz o tipo)"
      ],
      "metadata": {
        "id": "pQTxH1oa7FfR"
      }
    },
    {
      "cell_type": "code",
      "source": [
        "nome_lista = [item1, item2, item3, ...]\n",
        "\n",
        "lista = []\n",
        "\n",
        "lista_compras = [\"maçãs\", \"leite\", \"arroz\", \"frango\"]\n",
        "# Boa prática: como listas possuem múltiplos itens, utilize um nome no plural!\n",
        "# Cada item da lista é uma string. Então não esqueça das aspas."
      ],
      "metadata": {
        "id": "8BIfXGGd7JO4"
      },
      "execution_count": null,
      "outputs": []
    },
    {
      "cell_type": "code",
      "source": [
        "for nome_variavel in nome_lista:\n",
        "  #faz algo com nome_variavel"
      ],
      "metadata": {
        "id": "5YDLJLft7bvJ"
      },
      "execution_count": null,
      "outputs": []
    },
    {
      "cell_type": "code",
      "source": [
        "lista_compras = [\"maçãs\", \"leite\", \"arroz\", \"frango\"]\n",
        "for item in lista_compras:\n",
        "  print(\"Preciso comprar:\", item)"
      ],
      "metadata": {
        "colab": {
          "base_uri": "https://localhost:8080/"
        },
        "id": "G23Yxws-7gzx",
        "outputId": "700d81d8-d1e2-4778-b83e-5f98a0cd7943"
      },
      "execution_count": 104,
      "outputs": [
        {
          "output_type": "stream",
          "name": "stdout",
          "text": [
            "Preciso comprar: maçãs\n",
            "Preciso comprar: leite\n",
            "Preciso comprar: arroz\n",
            "Preciso comprar: frango\n"
          ]
        }
      ]
    },
    {
      "cell_type": "code",
      "source": [
        "lista_compras = [\"maçãs\", \"leite\", \"arroz\", \"frango\"]\n",
        "print(\"O primeiro item que preciso comprar é:\",\n",
        "lista_compras[0])"
      ],
      "metadata": {
        "colab": {
          "base_uri": "https://localhost:8080/"
        },
        "id": "5NgKwTbA7oOL",
        "outputId": "93051b16-565c-4b4a-b40e-9b3aea480874"
      },
      "execution_count": 105,
      "outputs": [
        {
          "output_type": "stream",
          "name": "stdout",
          "text": [
            "O primeiro item que preciso comprar é: maçãs\n"
          ]
        }
      ]
    },
    {
      "cell_type": "code",
      "source": [
        "lista_compras = [\"maçãs\", \"leite\", \"arroz\", \"frango\"]\n",
        "tamanho = len(lista_compras)\n",
        "print(\"A lista de compras possui:\", tamanho, \"itens\")"
      ],
      "metadata": {
        "colab": {
          "base_uri": "https://localhost:8080/"
        },
        "id": "7y3ToUf87qt7",
        "outputId": "c9b5c44c-90dc-4565-9130-67de3d037d24"
      },
      "execution_count": 106,
      "outputs": [
        {
          "output_type": "stream",
          "name": "stdout",
          "text": [
            "A lista de compras possui: 4 itens\n"
          ]
        }
      ]
    },
    {
      "cell_type": "code",
      "source": [
        "for i in range(len(lista_compras)):\n",
        "  print(\"O elemento\", i, \"da lista é\", lista_compras[i])"
      ],
      "metadata": {
        "id": "_3-K1og-7sqg"
      },
      "execution_count": null,
      "outputs": []
    },
    {
      "cell_type": "code",
      "source": [
        "i = 0\n",
        "while i < len(lista_compras):\n",
        "  print(\"O elemento\", i, \"da lista é\", lista_compras[i])\n",
        "  i = i + 1"
      ],
      "metadata": {
        "colab": {
          "base_uri": "https://localhost:8080/"
        },
        "id": "gtHyNWU57vLD",
        "outputId": "b78c100f-d873-47b5-ce2b-42451f79b426"
      },
      "execution_count": 107,
      "outputs": [
        {
          "output_type": "stream",
          "name": "stdout",
          "text": [
            "O elemento 0 da lista é maçãs\n",
            "O elemento 1 da lista é leite\n",
            "O elemento 2 da lista é arroz\n",
            "O elemento 3 da lista é frango\n"
          ]
        }
      ]
    },
    {
      "cell_type": "code",
      "source": [
        "lista_compras = [\"maçãs\", \"leite\", \"arroz\", \"frango\", \"macarrão\"]\n",
        "sublista = lista_compras[1:4]\n",
        "for item in sublista:\n",
        "  print(item)\n",
        "\n",
        "print(\"Outra forma\")\n",
        "for item in lista_compras[2:6]:\n",
        "  print(item)"
      ],
      "metadata": {
        "id": "9-tr4UZF7zc8"
      },
      "execution_count": null,
      "outputs": []
    },
    {
      "cell_type": "code",
      "source": [
        "lista_compras = [\"maçãs\", \"leite\", \"arroz\", \"frango\"]\n",
        "lista_compras[1] = \"açúcar\"\n",
        "for item in lista_compras:\n",
        "  print(item)"
      ],
      "metadata": {
        "id": "5vwuW2o_79lt"
      },
      "execution_count": null,
      "outputs": []
    },
    {
      "cell_type": "markdown",
      "source": [
        "Funções de listas"
      ],
      "metadata": {
        "id": "xjYro6HC7_mV"
      }
    },
    {
      "cell_type": "code",
      "source": [
        "lista_compras = [\"maçãs\", \"leite\", \"arroz\", \"frango\", \"leite\", \"trigo\"]\n",
        "\n",
        "qtde_vezes = lista_compras.count(\"leite\")\n",
        "idx = lista_compras.index(\"leite\")\n",
        "\n",
        "print(\"Quantidade: \", qtde_vezes)\n",
        "print(\"Primeiro idx: \", idx)"
      ],
      "metadata": {
        "colab": {
          "base_uri": "https://localhost:8080/"
        },
        "id": "eMsWFzS87_UM",
        "outputId": "177f36dd-d539-48ce-ab3a-f2a1f1bdfb82"
      },
      "execution_count": 108,
      "outputs": [
        {
          "output_type": "stream",
          "name": "stdout",
          "text": [
            "Quantidade:  2\n",
            "Primeiro idx:  1\n"
          ]
        }
      ]
    },
    {
      "cell_type": "code",
      "source": [
        "lista_compras = [\"maçãs\", \"leite\", \"arroz\", \"frango\", \"leite\", \"trigo\"]\n",
        "\n",
        "qtde_vezes = lista_compras.count(\"leite\") #Quantas vezes “leite” aparece na lista?\n",
        "idx = lista_compras.index(\"leite\") #Qual o primeiro índice de “leite” na lista?\n",
        "\n",
        "print(\"Quantidade: \", qtde_vezes)\n",
        "print(\"Primeiro idx: \", idx)"
      ],
      "metadata": {
        "id": "7EdXICaS8Hdt"
      },
      "execution_count": null,
      "outputs": []
    },
    {
      "cell_type": "code",
      "source": [
        "lista_compras = [\"maçãs\", \"leite\", \"arroz\", \"frango\", \"trigo\"]\n",
        "for item in lista_compras:\n",
        "  print(item)\n",
        "\n",
        "print(\"Ordenado\")\n",
        "lista_compras.sort()\n",
        "for item in lista_compras:\n",
        "  print(item)\n",
        "\n",
        "print(\"Ordenado Decrescente\")\n",
        "lista_compras.sort(reverse = True)\n",
        "for item in lista_compras:\n",
        "  print(item)"
      ],
      "metadata": {
        "id": "Gy0n_TCK8PXF"
      },
      "execution_count": null,
      "outputs": []
    },
    {
      "cell_type": "code",
      "source": [
        "# Excluindo elementos da lista\n",
        "# del nome_lista[idx]\n",
        "\n",
        "lista_compras = [\"maçãs\", \"leite\", \"arroz\", \"frango\", \"trigo\"]\n",
        "del lista_compras[1]\n",
        "for item in lista_compras:\n",
        "  print(item)"
      ],
      "metadata": {
        "colab": {
          "base_uri": "https://localhost:8080/"
        },
        "id": "sNiSFNcE8V0q",
        "outputId": "6a420463-8f40-4fb2-fa66-a06acad06dd2"
      },
      "execution_count": 112,
      "outputs": [
        {
          "output_type": "stream",
          "name": "stdout",
          "text": [
            "maçãs\n",
            "arroz\n",
            "frango\n",
            "trigo\n"
          ]
        }
      ]
    },
    {
      "cell_type": "code",
      "source": [
        "lista_compras = [\"maçãs\", \"leite\", \"arroz\", \"frango\", \"trigo\"]\n",
        "\n",
        "lista_compras.remove(\"arroz\")\n",
        "lista_compras.pop()\n",
        "\n",
        "for item in lista_compras:\n",
        "  print(item)"
      ],
      "metadata": {
        "colab": {
          "base_uri": "https://localhost:8080/"
        },
        "id": "ARUC9iyF8pLd",
        "outputId": "937bcd69-c9f7-4eca-a714-1ca4688d6ba8"
      },
      "execution_count": 113,
      "outputs": [
        {
          "output_type": "stream",
          "name": "stdout",
          "text": [
            "maçãs\n",
            "leite\n",
            "frango\n"
          ]
        }
      ]
    },
    {
      "cell_type": "code",
      "source": [
        "#insert(idx, item) insere o item na posição\n",
        "#append(item) insere o item no final\n",
        "\n",
        "lista_compras = [\"maçãs\", \"leite\", \"arroz\", \"frango\", \"trigo\"]\n",
        "\n",
        "lista_compras.insert(2, \"feijão\")\n",
        "lista_compras.append(\"tomate\")\n",
        "\n",
        "for item in lista_compras:\n",
        "  print(item)"
      ],
      "metadata": {
        "colab": {
          "base_uri": "https://localhost:8080/"
        },
        "id": "epfAu4pr8wJW",
        "outputId": "d518348d-6e49-4448-aa81-9e2723533877"
      },
      "execution_count": 115,
      "outputs": [
        {
          "output_type": "stream",
          "name": "stdout",
          "text": [
            "maçãs\n",
            "leite\n",
            "feijão\n",
            "arroz\n",
            "frango\n",
            "trigo\n",
            "tomate\n"
          ]
        }
      ]
    },
    {
      "cell_type": "code",
      "source": [
        "lista_compras = [] #uma lista vazia\n",
        "item = input(\"Digite um item ou sair: \")\n",
        "\n",
        "while item != \"sair\":\n",
        "  lista_compras.append(item)\n",
        "  item = input(\"Digite um item ou sair: \")\n",
        "\n",
        "for it in lista_compras:\n",
        "  print(it)"
      ],
      "metadata": {
        "colab": {
          "base_uri": "https://localhost:8080/"
        },
        "id": "J2MigMxy8-Zx",
        "outputId": "35847543-79cb-460d-879b-44865c8b0bb6"
      },
      "execution_count": 117,
      "outputs": [
        {
          "output_type": "stream",
          "name": "stdout",
          "text": [
            "Digite um item ou sair: item1\n",
            "Digite um item ou sair: sair\n",
            "item1\n"
          ]
        }
      ]
    },
    {
      "cell_type": "code",
      "source": [
        "lista_inteiros = [1,2,3]\n",
        "\n",
        "elementos = [\"casa\", 1, \"banana\", lista_inteiros]\n",
        "\n",
        "for item in elementos:\n",
        "  print(item, type(item))"
      ],
      "metadata": {
        "id": "hfcyvGlV9M-4"
      },
      "execution_count": null,
      "outputs": []
    },
    {
      "cell_type": "markdown",
      "source": [
        "<h2>Exercicios</h2>\n",
        "\n",
        "<h3>Em sala</h3>"
      ],
      "metadata": {
        "id": "4cxwznhEymxl"
      }
    },
    {
      "cell_type": "code",
      "source": [
        "import sys\n",
        "\n",
        "arq_nome = \"dsbd_trab1.csv\" # caminho para arquivo\n",
        "\n",
        "texto = open(arq_nome).read()\n",
        "linhas = texto.split(\"\\n\")\n",
        "\n",
        "#print(\"Tamanho do arquivo: \", len(linhas))\n",
        "#print(\"Primeira linha:\\n\", linhas[0])\n",
        "\n",
        "dividindo = linhas[0].split(\",\")\n",
        "#print(\"Dividindo a primeira linha nas virgulas:\\n\", dividindo)\n",
        "#print(\"Classe da variavel dividindo:\\n\", type(dividindo))\n",
        "cabecalho = \"\"\n",
        "nova_linha = \"\"\n",
        "nova_tabela = [i for i in range(len(linhas)+1)]\n",
        "\n",
        "\n",
        "for i in range(len(dividindo)):\n",
        "  temp= dividindo[i].split(\":\")\n",
        "  cabecalho = cabecalho + \"'\" + temp[0] + \"'\" + \",\"\n",
        "\n",
        "nova_tabela[0] = cabecalho # + \"\\n\"\n",
        "\n",
        "cabecalho = cabecalho.split(\",\")\n",
        "\n",
        "#print(\"O cabeçalho é:\\n\", cabecalho)\n",
        "#print(\"A quantidade de variaveis no cabeçalho é \", len(cabecalho))\n",
        "#print(\"O cabeçalho da var é: \", cabecalho[0], \" e seu tamanho é \", len(cabecalho[0]))\n",
        "\n",
        "\n",
        "for i in range(len(linhas)): #len(linhas)\n",
        "  dividindo = linhas[i].split(\",\") # divide cada linha nas variaveis\n",
        "  #print(\"A linha \", i, \" é \", dividindo)\n",
        "  #print(\"Tamanho linha: \", len(dividindo))\n",
        "  nova_linha = ''\n",
        "  for j in range(len(dividindo)): # vai ver por variavel da linha\n",
        "    #print(\"O cabeçalho da var é: \", cabecalho[j], \" e seu tamanho é \", len(cabecalho[j]))\n",
        "    temp1 = dividindo[j]\n",
        "    temp2 = temp1[(len(cabecalho[j])-1):len(dividindo[j])]\n",
        "    #print(temp2)\n",
        "    nova_linha = nova_linha + \"'\"+ temp2 + \"'\" + \",\"\n",
        "  #print(\"A linha \", i, \" é \", nova_linha)\n",
        "  #nova_linha = nova_linha + \"\\n\"\n",
        "  nova_tabela[i+1] = nova_linha\n",
        "\n",
        "print(\"\\n\\n\")\n",
        "\n",
        "for i in range(20): #len(linhas)\n",
        "  print(nova_tabela[i])\n",
        "\n",
        "\n",
        "\n"
      ],
      "metadata": {
        "colab": {
          "base_uri": "https://localhost:8080/"
        },
        "id": "pYHsSTT1U56r",
        "outputId": "73268e83-49b1-4ad1-9ccc-4cc839fbbf1e"
      },
      "execution_count": 76,
      "outputs": [
        {
          "output_type": "stream",
          "name": "stdout",
          "text": [
            "\n",
            "\n",
            "\n",
            "'date(mmddyyyy)','srcIP','srcPort','dstIP','dstPort','protocol','priority','IDSID','SignatureGroup','Classification',\n",
            "'01062022','13.37.246.222','20779','27.90.122.105','80','TCP','3','[5:9630043:1]','yahoo','yahoo-group',\n",
            "'01062022','51.244.132.150','9273','11.17.210.24','443','TCP','3','[16:9000012:1]','twitter','twitter-group',\n",
            "'01062022','25.44.57.51','29963','1.233.229.226','443','TCP','3','[7:9000015:1]','telegram','telegram-group',\n",
            "'01062022','86.9.10.199','36005','119.121.60.111','443','TCP','3','[1:9510710:1]','apple.com','Miscactivity',\n",
            "'01062022','5.15.40.38','34761','209.158.136.135','443','TCP','3','[204:9000002:1]','Instagram','instagram-group',\n",
            "'01062022','116.199.131.118','33169','179.242.37.106','443','TCP','3','[4:9000003:1]','whatsapp','whatsapp-group',\n",
            "'01062022','1.160.191.107','40102','235.71.44.177','443','TCP','3','[9:9490029:1]','skype','skype-group',\n",
            "'01062022','198.187.233.208','61488','247.164.115.13','443','TCP','3','[1:9660037:1]','binance','Miscactivity',\n",
            "'01062022','42.241.208.132','22674','132.68.81.197','443','TCP','3','[1:9510636:1]','trello.com','Miscactivity',\n",
            "'01062022','141.47.33.240','46954','199.74.166.114','443','TCP','3','[1:9510367:1]','login.live.com','Miscactivity',\n",
            "'01062022','33.165.101.85','54882','237.45.62.225','443','TCP','3','[20:6700240:1]','www.googleapis.com','Miscactivity',\n",
            "'01062022','212.9.80.206','11787','58.251.117.231','5228','TCP','3','[20:6700122:1]','google.com','Miscactivity',\n",
            "'01062022','95.101.156.20','11787','162.37.0.210','5228','TCP','3','[20:6700150:1]','mtalk.google.com','Miscactivity',\n",
            "'01062022','198.163.227.123','11787','99.29.53.14','5228','TCP','3','[20:6700242:1]','www.google.com','Miscactivity',\n",
            "'01062022','162.115.226.149','41887','31.197.112.61','443','TCP','3','[1:9340008:1]','bing','Miscactivity',\n",
            "'01062022','179.7.255.35','48464','105.37.180.113','6996','TCP','2','[1:2403378:71286]','ET_CINS_Active_Threat_Intelligence_Poor_Reputation_IP_group_79','MiscAttack',\n",
            "'01062022','252.133.218.97','46259','209.166.243.182','443','TCP','3','[21:6700267:1]','amazon.com','Miscactivity',\n",
            "'01062022','213.106.187.203','9678','219.206.244.189','443','TCP','3','[21:6700263:1]','amazon.in','Miscactivity',\n",
            "'01062022','194.65.86.120','12197','137.142.13.203','443','TCP','3','[20:6700178:1]','safebrowsing.googleapis.com','Miscactivity',\n"
          ]
        }
      ]
    },
    {
      "cell_type": "markdown",
      "source": [
        "Silde 2a - Exercicios\n",
        "\n",
        "Escreva um programa que imprima o preço do ingresso\n",
        "para um museu, dadas as condições abaixo:\n",
        "- O valor-base é R$ 10,00\n",
        "- Menores de 5 anos não pagam\n",
        "- Crianças entre 5 e 12 anos pagam meia-entrada\n",
        "- Adolescentes entre 13 e 17 anos têm 20% de\n",
        "desconto\n",
        "- Adultos entre 18 e 70 anos pagam o valor-base\n",
        "- Maiores de 70 anos não pagam\n",
        "O programa deve executar e, ao mostrar o preço, retornar\n",
        "ao início e perguntar se o usuário quer saber o preço de\n",
        "um ingresso ou sair . Para sair, o usuário deve digitar \"q\".\n",
        "\n",
        "Requisitos:\n",
        "1. O valor-base deve ser armazenado em uma variável\n",
        "2. A idade deve ser digitada pelo usuário\n",
        "3. Seu programa deve calcular o preço do ingresso dentro de cada condição satisfeita e mostrá-lo ao usuário"
      ],
      "metadata": {
        "id": "F6AJSRrZ10F0"
      }
    },
    {
      "cell_type": "markdown",
      "source": [
        "Silde 2b - Exercicios\n",
        "\n"
      ],
      "metadata": {
        "id": "KgN4F_ra2Hbn"
      }
    }
  ]
}