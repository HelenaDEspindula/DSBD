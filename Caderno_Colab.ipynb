{
  "nbformat": 4,
  "nbformat_minor": 0,
  "metadata": {
    "colab": {
      "provenance": [],
      "authorship_tag": "ABX9TyNrc/mgNY9sgTgUiBOv7rJN",
      "include_colab_link": true
    },
    "kernelspec": {
      "name": "python3",
      "display_name": "Python 3"
    },
    "language_info": {
      "name": "python"
    }
  },
  "cells": [
    {
      "cell_type": "markdown",
      "metadata": {
        "id": "view-in-github",
        "colab_type": "text"
      },
      "source": [
        "<a href=\"https://colab.research.google.com/github/HelenaDEspindula/DSBD/blob/main/Caderno_Colab.ipynb\" target=\"_parent\"><img src=\"https://colab.research.google.com/assets/colab-badge.svg\" alt=\"Open In Colab\"/></a>"
      ]
    },
    {
      "cell_type": "markdown",
      "source": [
        "Pergunta de Quiz"
      ],
      "metadata": {
        "id": "dvPZKFd_jTVZ"
      }
    },
    {
      "cell_type": "code",
      "execution_count": null,
      "metadata": {
        "colab": {
          "base_uri": "https://localhost:8080/"
        },
        "id": "jbFXm2jEgIlY",
        "outputId": "dbbc55eb-aff3-4bd7-8607-c55a1d97e666"
      },
      "outputs": [
        {
          "output_type": "stream",
          "name": "stdout",
          "text": [
            "nome  Maria sobrenome  Silva 6.0\n"
          ]
        }
      ],
      "source": [
        "import math\n",
        "\n",
        "nome = \"Maria\"\n",
        "sobrenome = \"Silva\"\n",
        "calculo = 36\n",
        "calculo = math.sqrt(36)\n",
        "print(\"nome \", nome, \"sobrenome \", sobrenome, calculo)\n",
        "\n"
      ]
    },
    {
      "cell_type": "markdown",
      "source": [
        "Coisas da aula 2\n"
      ],
      "metadata": {
        "id": "26WGdeOJjXqd"
      }
    },
    {
      "cell_type": "code",
      "source": [
        "hrsdespindula@h8:~$ python3\n",
        "Python 3.9.2 (default, Feb 28 2021, 17:03:44)\n",
        "[GCC 10.2.1 20210110] on linux\n",
        "Type \"help\", \"copyright\", \"credits\" or \"license\" for more information.\n",
        ">> quit()\n",
        "\n",
        "\n",
        "hrsdespindula@h8:~$ python3\n",
        "Python 3.9.2 (default, Feb 28 2021, 17:03:44)\n",
        "[GCC 10.2.1 20210110] on linux\n",
        "Type \"help\", \"copyright\", \"credits\" or \"license\" for more information.\n",
        ">>> print(\"SEU TEXTO\")\n",
        "SEU TEXTO\n",
        ">>> print(\"ola mundo\")\n",
        "ola mundo\n",
        "\n",
        "\n",
        "\n",
        "\n"
      ],
      "metadata": {
        "id": "bII5DSGQja1B"
      },
      "execution_count": null,
      "outputs": []
    },
    {
      "cell_type": "markdown",
      "source": [
        "Realizando Operações<br>\n",
        "O interpretador é capaz de realizar operações e exibir o resultado\n",
        "Alguns operadores que podem ser usados:<br>\n",
        "\"+\" Adição<br>\n",
        "\"-\" Subtração<br>\n",
        "\"/\" Divisão<br>\n",
        "\"*\" Multiplicação<br>\n",
        "\"**\" Exponenciação<br>\n",
        "\"%\" Módulo (resto da divisão)"
      ],
      "metadata": {
        "id": "kG7YRJWGjckY"
      }
    },
    {
      "cell_type": "code",
      "source": [
        "hrsdespindula@h8:~$ python3\n",
        "Python 3.9.2 (default, Feb 28 2021, 17:03:44)\n",
        "[GCC 10.2.1 20210110] on linux\n",
        "Type \"help\", \"copyright\", \"credits\" or \"license\" for more information.\n",
        ">>> print(\"SEU TEXTO\")\n",
        "SEU TEXTO\n",
        ">>> print(\"ola mundo\")\n",
        "ola mundo\n",
        ">>> 2+3\n",
        "5\n",
        ">>> 2-1\n",
        "1\n",
        ">>> 3*2\n",
        "6\n",
        ">>> 15/5\n",
        "3.0\n",
        ">>> 2**3\n",
        "8\n"
      ],
      "metadata": {
        "id": "vK30kTuCkatY"
      },
      "execution_count": null,
      "outputs": []
    },
    {
      "cell_type": "markdown",
      "source": [
        "Fazendo aqui"
      ],
      "metadata": {
        "id": "Pq7JoSGYkuRg"
      }
    },
    {
      "cell_type": "code",
      "source": [
        "print(\"2+3 = \",2+3)\n",
        "print(\"2-1 = \",2-1)\n",
        "print(\"3*2 = \",3*2)\n",
        "print(\"15/5 = \",15/5)\n",
        "print(\"2**3 = \", 2**3)"
      ],
      "metadata": {
        "colab": {
          "base_uri": "https://localhost:8080/"
        },
        "id": "kXOOhF9OkwP8",
        "outputId": "45c5593a-7d27-440e-8ab0-fc9a61156f27"
      },
      "execution_count": null,
      "outputs": [
        {
          "output_type": "stream",
          "name": "stdout",
          "text": [
            "2+3 =  5\n",
            "2-1 =  1\n",
            "3*2 =  6\n",
            "15/5 =  3.0\n",
            "2**3 =  8\n"
          ]
        }
      ]
    },
    {
      "cell_type": "code",
      "source": [
        "qtde_alunos = 30\n",
        "nome = \"Maria\"\n",
        "pi = 3.14\n",
        "\n",
        "print(qtde_alunos, \" \", nome, \" \", pi)\n",
        "\n",
        "qtde_alunos = 200\n",
        "alunos_externos = 20\n",
        "total_alunos = qtde_alunos + alunos_externos\n",
        "print(total_alunos)\n",
        "print(qtde_alunos - alunos_externos)\n",
        "\n",
        "print(\"qtde_alunos = \", type(qtde_alunos))\n",
        "print(\"nome = \", type(nome))\n",
        "print(\"pi = \", type(pi))"
      ],
      "metadata": {
        "colab": {
          "base_uri": "https://localhost:8080/"
        },
        "id": "Vrq9M2qklOe-",
        "outputId": "9c888063-667d-4390-c290-4175f8879ca7"
      },
      "execution_count": null,
      "outputs": [
        {
          "output_type": "stream",
          "name": "stdout",
          "text": [
            "30   Maria   3.14\n",
            "220\n",
            "180\n",
            "qtde_alunos =  <class 'int'>\n",
            "nome =  <class 'str'>\n",
            "pi =  <class 'float'>\n"
          ]
        }
      ]
    },
    {
      "cell_type": "markdown",
      "source": [
        "Tipos dinamico de variavel"
      ],
      "metadata": {
        "id": "1IeLq1uTmvsa"
      }
    },
    {
      "cell_type": "code",
      "source": [
        "x = 20\n",
        "print(\"x = \", x, \" = \", type(x))\n",
        "\n",
        "x = 20.13\n",
        "print(\"x = \", x, \" = \", type(x))\n",
        "\n",
        "x = \"20\"\n",
        "print(\"x = \", x, \" = \", type(x))"
      ],
      "metadata": {
        "colab": {
          "base_uri": "https://localhost:8080/"
        },
        "id": "uOOX7MS4mzp5",
        "outputId": "b0582534-de6b-4a85-e234-9de18cb1820a"
      },
      "execution_count": null,
      "outputs": [
        {
          "output_type": "stream",
          "name": "stdout",
          "text": [
            "x =  20  =  <class 'int'>\n",
            "x =  20.13  =  <class 'float'>\n",
            "x =  20  =  <class 'str'>\n"
          ]
        }
      ]
    },
    {
      "cell_type": "markdown",
      "source": [
        "Concatenar é somar str"
      ],
      "metadata": {
        "id": "2LVWZr-onPaS"
      }
    },
    {
      "cell_type": "code",
      "source": [
        "str1 = \"sou a\"\n",
        "str2 = \" Helena\"\n",
        "x = str1 + str2\n",
        "print(x)\n",
        "\n",
        "print(10*str2)"
      ],
      "metadata": {
        "colab": {
          "base_uri": "https://localhost:8080/"
        },
        "id": "wjWYGxM4nRyK",
        "outputId": "2ee56cb5-1356-4a7a-8a78-998ca14be1f5"
      },
      "execution_count": null,
      "outputs": [
        {
          "output_type": "stream",
          "name": "stdout",
          "text": [
            "sou a Helena\n",
            " Helena Helena Helena Helena Helena Helena Helena Helena Helena Helena\n"
          ]
        }
      ]
    },
    {
      "cell_type": "code",
      "source": [
        "variavel_destino = input(\"Texto opcional para exibir: \")\n",
        "\n",
        "print(variavel_destino)\n"
      ],
      "metadata": {
        "colab": {
          "base_uri": "https://localhost:8080/"
        },
        "id": "fzOOzStsoSw5",
        "outputId": "ff05819a-1bc7-454a-d8cd-7de3b41ec65e"
      },
      "execution_count": null,
      "outputs": [
        {
          "output_type": "stream",
          "name": "stdout",
          "text": [
            "Texto opcional para exibirteste\n",
            "teste\n"
          ]
        }
      ]
    },
    {
      "cell_type": "code",
      "source": [
        "print(\"Olá mundo!\")\n",
        "nome = input(\"Digite seu nome: \")\n",
        "print(\"Seu nome é\", nome)\n",
        "\n",
        "idade = input(\"Digite sua idade: \")\n",
        "idade_apos = input(\"Com quantos anos você quer aposentar: \")\n",
        "anos_apos = idade_apos - idade\n",
        "print(\"Faltam\", anos_apos, \" para você aposentar\")"
      ],
      "metadata": {
        "colab": {
          "base_uri": "https://localhost:8080/",
          "height": 280
        },
        "id": "b4_JDnIgoeEU",
        "outputId": "46967134-3412-4a7a-dd37-1f0e9e47e275"
      },
      "execution_count": null,
      "outputs": [
        {
          "name": "stdout",
          "output_type": "stream",
          "text": [
            "Olá mundo!\n",
            "Digite seu nome: Helena\n",
            "Seu nome é Helena\n",
            "Digite sua idade: 33\n",
            "Com quantos anos você quer aposentar: 70\n"
          ]
        },
        {
          "output_type": "error",
          "ename": "TypeError",
          "evalue": "unsupported operand type(s) for -: 'str' and 'str'",
          "traceback": [
            "\u001b[0;31m---------------------------------------------------------------------------\u001b[0m",
            "\u001b[0;31mTypeError\u001b[0m                                 Traceback (most recent call last)",
            "\u001b[0;32m<ipython-input-25-d3b8f4649b76>\u001b[0m in \u001b[0;36m<cell line: 7>\u001b[0;34m()\u001b[0m\n\u001b[1;32m      5\u001b[0m \u001b[0midade\u001b[0m \u001b[0;34m=\u001b[0m \u001b[0minput\u001b[0m\u001b[0;34m(\u001b[0m\u001b[0;34m\"Digite sua idade: \"\u001b[0m\u001b[0;34m)\u001b[0m\u001b[0;34m\u001b[0m\u001b[0;34m\u001b[0m\u001b[0m\n\u001b[1;32m      6\u001b[0m \u001b[0midade_apos\u001b[0m \u001b[0;34m=\u001b[0m \u001b[0minput\u001b[0m\u001b[0;34m(\u001b[0m\u001b[0;34m\"Com quantos anos você quer aposentar: \"\u001b[0m\u001b[0;34m)\u001b[0m\u001b[0;34m\u001b[0m\u001b[0;34m\u001b[0m\u001b[0m\n\u001b[0;32m----> 7\u001b[0;31m \u001b[0manos_apos\u001b[0m \u001b[0;34m=\u001b[0m \u001b[0midade_apos\u001b[0m \u001b[0;34m-\u001b[0m \u001b[0midade\u001b[0m\u001b[0;34m\u001b[0m\u001b[0;34m\u001b[0m\u001b[0m\n\u001b[0m\u001b[1;32m      8\u001b[0m \u001b[0mprint\u001b[0m\u001b[0;34m(\u001b[0m\u001b[0;34m\"Faltam\"\u001b[0m\u001b[0;34m,\u001b[0m \u001b[0manos_apos\u001b[0m\u001b[0;34m,\u001b[0m \u001b[0;34m\" para você aposentar\"\u001b[0m\u001b[0;34m)\u001b[0m\u001b[0;34m\u001b[0m\u001b[0;34m\u001b[0m\u001b[0m\n",
            "\u001b[0;31mTypeError\u001b[0m: unsupported operand type(s) for -: 'str' and 'str'"
          ]
        }
      ]
    },
    {
      "cell_type": "markdown",
      "source": [
        " não vai dar certo assim pq o tipo automatico tá errado"
      ],
      "metadata": {
        "id": "V9YD-1rooyfL"
      }
    },
    {
      "cell_type": "code",
      "source": [
        "idade = int(input(\"Digite sua idade: \"))\n",
        "idade_apos = int(input(\"Com quantos anos você quer aposentar: \"))\n",
        "anos_apos = idade_apos - idade\n",
        "print(\"Faltam \", anos_apos, \" para você aposentar\")\n",
        "\n",
        "idade = float(input(\"Digite sua idade: \"))\n",
        "idade_apos = float(input(\"Com quantos anos você quer aposentar: \"))\n",
        "anos_apos = idade_apos - idade\n",
        "print(\"Faltam \", anos_apos, \" para você aposentar\")\n",
        "print(\"Faltam\", anos_apos, \"para você aposentar\")"
      ],
      "metadata": {
        "colab": {
          "base_uri": "https://localhost:8080/"
        },
        "id": "cuMLOmaro2ss",
        "outputId": "232758ab-b285-4817-ca54-322a8b49c39b"
      },
      "execution_count": null,
      "outputs": [
        {
          "output_type": "stream",
          "name": "stdout",
          "text": [
            "Digite sua idade: 33\n",
            "Com quantos anos você quer aposentar: 70\n",
            "Faltam  37  para você aposentar\n",
            "Digite sua idade: 50\n",
            "Com quantos anos você quer aposentar: 70\n",
            "Faltam  20.0  para você aposentar\n",
            "Faltam 20.0 para você aposentar\n"
          ]
        }
      ]
    },
    {
      "cell_type": "markdown",
      "source": [
        "\n",
        "Terminal:\n",
        "```\n",
        "$ python meu_script.py 5\n",
        "```\n",
        "\n",
        "Saida:\n",
        "```\n",
        "Voce digitou o numero 5.\n",
        "```\n",
        "\n",
        "Codigo-fonte:\n",
        "```\n",
        "import sys\n",
        "entrada = sys.argv[1]\n",
        "print(\"Voce digitou o numero {}.\".format(entrada))\n",
        "```\n",
        "\n",
        "Para receber argumentos direto da linha de comando usamos o\n",
        "\n",
        "```\n",
        "sys.argv[1]\n",
        "```\n",
        "\n",
        "No arquivo \"Downloads/meu_script.py\":\n",
        "```\n",
        "import sys\n",
        "print(sys.argv)\n",
        "```\n",
        "\n",
        "No terminal\n",
        "```\n",
        "hrsdespindula@h8:~/Downloads$ python3 meu_script.py 5 -15 nome 0 sim\n",
        "['meu_script.py', '5', '-15', 'nome', '0', 'sim']\n",
        "```\n",
        "\n",
        "\n",
        "\n",
        "\n",
        "\n",
        "\n",
        "\n"
      ],
      "metadata": {
        "id": "PGC_SisDpZIF"
      }
    },
    {
      "cell_type": "markdown",
      "source": [
        "No arquivo \"Downloads/meu_script.py\":\n",
        "```\n",
        "import sys\n",
        "def fat(n):\n",
        "  res = 1\n",
        "  for i in range(2,n+1):\n",
        "    res *= i\n",
        "  print(res)\n",
        "\n",
        "n = int(sys.argv[1])\n",
        "fat(n)\n",
        "```\n",
        "\n",
        "No terminal:\n",
        "```\n",
        "hrsdespindula@h8:~/Downloads$ python3 meu_script.py 1\n",
        "1\n",
        "hrsdespindula@h8:~/Downloads$ python3 meu_script.py 2\n",
        "2\n",
        "hrsdespindula@h8:~/Downloads$ python3 meu_script.py 3\n",
        "6\n",
        "hrsdespindula@h8:~/Downloads$ python3 meu_script.py 4\n",
        "24\n",
        "```\n",
        "\n",
        "\n",
        "\n",
        "\n"
      ],
      "metadata": {
        "id": "2LPwEp7WsL5o"
      }
    },
    {
      "cell_type": "markdown",
      "source": [
        "Receba o caminho do arquivo\n",
        "```\n",
        "($ python3 processa_texto.py /Docs/poesia.txt)\n",
        "arq_nome = sys.argv[1]\n",
        "```\n",
        "Abra o arquivo\n",
        "```\n",
        "arq_handle = open(arq_nome)\n",
        "# aberto para leitura!\n",
        "```\n",
        "\n",
        "Leia o arquivo linha por linha\n",
        "```\n",
        "texto = arq_handle.read()\n",
        "```"
      ],
      "metadata": {
        "id": "_-kyf8IVRdw4"
      }
    },
    {
      "cell_type": "code",
      "source": [
        "import sys\n",
        "\n",
        "arq_nome = sys.argv[1] # caminho para arquivo\n",
        "arq_handle = open(arq_nome)# abre para leitura\n",
        "texto = arq_handle.read() # lê para uma string\n",
        "\n",
        "print(texto)\n",
        "print(type(texto))"
      ],
      "metadata": {
        "id": "PPA3Fl1fR-Ly",
        "outputId": "a06eeb38-4fc9-4ba0-8fc3-63513bfa182b",
        "colab": {
          "base_uri": "https://localhost:8080/",
          "height": 332
        }
      },
      "execution_count": null,
      "outputs": [
        {
          "output_type": "error",
          "ename": "FileNotFoundError",
          "evalue": "[Errno 2] No such file or directory: '-f'",
          "traceback": [
            "\u001b[0;31m---------------------------------------------------------------------------\u001b[0m",
            "\u001b[0;31mFileNotFoundError\u001b[0m                         Traceback (most recent call last)",
            "\u001b[0;32m<ipython-input-1-5b70333b5538>\u001b[0m in \u001b[0;36m<cell line: 4>\u001b[0;34m()\u001b[0m\n\u001b[1;32m      2\u001b[0m \u001b[0;34m\u001b[0m\u001b[0m\n\u001b[1;32m      3\u001b[0m \u001b[0marq_nome\u001b[0m \u001b[0;34m=\u001b[0m \u001b[0msys\u001b[0m\u001b[0;34m.\u001b[0m\u001b[0margv\u001b[0m\u001b[0;34m[\u001b[0m\u001b[0;36m1\u001b[0m\u001b[0;34m]\u001b[0m \u001b[0;31m# caminho para arquivo\u001b[0m\u001b[0;34m\u001b[0m\u001b[0;34m\u001b[0m\u001b[0m\n\u001b[0;32m----> 4\u001b[0;31m \u001b[0marq_handle\u001b[0m \u001b[0;34m=\u001b[0m \u001b[0mopen\u001b[0m\u001b[0;34m(\u001b[0m\u001b[0marq_nome\u001b[0m\u001b[0;34m)\u001b[0m\u001b[0;31m# abre para leitura\u001b[0m\u001b[0;34m\u001b[0m\u001b[0;34m\u001b[0m\u001b[0m\n\u001b[0m\u001b[1;32m      5\u001b[0m \u001b[0mtexto\u001b[0m \u001b[0;34m=\u001b[0m \u001b[0marq_handle\u001b[0m\u001b[0;34m.\u001b[0m\u001b[0mread\u001b[0m\u001b[0;34m(\u001b[0m\u001b[0;34m)\u001b[0m \u001b[0;31m# lê para uma string\u001b[0m\u001b[0;34m\u001b[0m\u001b[0;34m\u001b[0m\u001b[0m\n\u001b[1;32m      6\u001b[0m \u001b[0;34m\u001b[0m\u001b[0m\n",
            "\u001b[0;31mFileNotFoundError\u001b[0m: [Errno 2] No such file or directory: '-f'"
          ]
        }
      ]
    },
    {
      "cell_type": "code",
      "source": [
        "\n",
        "#READ\n",
        "\n",
        "import sys\n",
        "\n",
        "texto = open(sys.argv[1]).read()\n",
        "linhas = texto.split(\"\\n\")\n",
        "\n",
        "print(linhas)\n",
        "print(type(linhas))"
      ],
      "metadata": {
        "id": "z-p9XvMPSXxA"
      },
      "execution_count": null,
      "outputs": []
    },
    {
      "cell_type": "code",
      "source": [
        "#READLINE (SINGULAR)\n",
        "\n",
        "import sys\n",
        "\n",
        "texto = open(sys.argv[1]).readline()\n",
        "linhas = texto.split(\"\\n\")\n",
        "\n",
        "print(linhas)\n",
        "print(type(linhas))"
      ],
      "metadata": {
        "id": "pbPSU4h_S3EZ"
      },
      "execution_count": null,
      "outputs": []
    },
    {
      "cell_type": "code",
      "source": [
        "#READLINES\n",
        "\n",
        "import sys\n",
        "\n",
        "texto = open(sys.argv[1]).readlines()\n",
        "linhas = texto.split(\"\\n\")\n",
        "\n",
        "print(linhas)\n",
        "print(type(linhas))"
      ],
      "metadata": {
        "id": "B94Y-P3gSstz"
      },
      "execution_count": null,
      "outputs": []
    },
    {
      "cell_type": "code",
      "source": [
        "import sys\n",
        "\n",
        "texto = open(sys.argv[1]).read().sliptlines()\n",
        "\n",
        "print(texto)\n",
        "print(type(texto))"
      ],
      "metadata": {
        "id": "od8IsZK9TQ-d"
      },
      "execution_count": null,
      "outputs": []
    },
    {
      "cell_type": "code",
      "source": [
        "import sys\n",
        "\n",
        "arq = open(sys.argv[1])\n",
        "texto = arq.read().splitlines()\n",
        "\n",
        "print(texto)\n",
        "print(type(texto))\n",
        "\n",
        "arq.close() # não esqueça de fechar o arquivo"
      ],
      "metadata": {
        "id": "TtRSmVKGTsC4"
      },
      "execution_count": null,
      "outputs": []
    },
    {
      "cell_type": "markdown",
      "source": [
        "Modos de escrita de arquivos\n",
        "\n",
        "```\n",
        "arq_saida = open(sys.argv[2], 'w')\n",
        "```\n",
        "\n",
        "‘w’ abre o arquivo em modo escrita <br>\n",
        "Se o arquivo *não* existir, cria um novo<br>\n",
        "Senão, sobrescreve!\n",
        "\n",
        "```\n",
        "arq_saida = open(sys.argv[2], 'a')\n",
        "```\n",
        "\n",
        "‘a’ abre o arquivo em modo append <br>\n",
        "Se o arquivo *não* existir, cria um novo<br>\n",
        "Senão, insere no final!<br>"
      ],
      "metadata": {
        "id": "cl1g7kOWT87Q"
      }
    },
    {
      "cell_type": "markdown",
      "source": [
        "<h1>Importações</h1>\n",
        "\n",
        "```\n",
        "import nome_atquivo # tipo biblioteca R\n",
        "```"
      ],
      "metadata": {
        "id": "DVdd7xHSUpwb"
      }
    },
    {
      "cell_type": "code",
      "source": [
        "import math\n",
        "\n",
        "valor = 4\n",
        "raiz = math.sqrt(valor)\n",
        "print(\"A raiz de \", valor, \"é\", raiz)"
      ],
      "metadata": {
        "id": "eeAkYBYhVC5F",
        "outputId": "cde3bcb6-49b5-4d9c-ff98-e66ce2112597",
        "colab": {
          "base_uri": "https://localhost:8080/"
        }
      },
      "execution_count": null,
      "outputs": [
        {
          "output_type": "stream",
          "name": "stdout",
          "text": [
            "A raiz de  4 é 2.0\n"
          ]
        }
      ]
    },
    {
      "cell_type": "markdown",
      "source": [
        "Comentários precedidos por “#”\n",
        "\n",
        "Função básica - print()\n",
        "O comando print( ): ► Sintaxe: ► print(valor1, valor2, …, valorN) ► Se nenhum argumento é passado, imprime uma linha em branco ► Os valores a serem impressos são separados por um espaço: − print(“Resposta:”, 6 * 7, “!!!”)\n",
        "\n",
        "Condicionais básicos ► if (condição): ► Instrução 1 ► Instrução 2 ► elif (outra condição): ► Instrução 3 ► else: ► Instrução 4 ► Instrução 5 (fora do IF-ELIF-ELSE)\n",
        "\n",
        "Laços básicos ► for i in range(5): ► print(“%d “ %i) ► 0 ► 1 ► 2 ► 3 ► 4 ► while True: ► print(“laço infinito!”)"
      ],
      "metadata": {
        "id": "Uo2vxIXCVuAL"
      }
    },
    {
      "cell_type": "markdown",
      "source": [
        "Exercício 1\n",
        "\n",
        "Faça um programa que pergunta o peso (em kg) e a altura (em metros) do usuário. O programa deve calcular o Índice de Massa Corpórea (IMC) do usuário, que é dado por peso/(altura*altura) e exibir o valor de IMC na tela.\n",
        "\n",
        "Dica: use float para ler o input. Para separar as casas decimais quando estiver digitando, utilize ponto (e.g., digite 1.8 para uma altura de um e oitenta). Isso pode ser diferente em alguns sistemas. Por exemplo, alguns terminais de sistemas Mac utilizam vírgula para separar as casas decimais."
      ],
      "metadata": {
        "id": "oeGPa8rPWB8W"
      }
    },
    {
      "cell_type": "code",
      "source": [
        "import sys\n",
        "\n",
        "peso = float(input(\"insira seu peso em kg: \"))\n",
        "\n",
        "altura = float(input(\"insira sua altura em m: \"))\n",
        "\n",
        "imc = (peso / (altura * altura))\n",
        "\n",
        "print(\"Seu IMC =\", imc)"
      ],
      "metadata": {
        "id": "QevT3sejWIww",
        "outputId": "1d2985fb-3b10-4798-ce7c-f6e15ef78e01",
        "colab": {
          "base_uri": "https://localhost:8080/"
        }
      },
      "execution_count": null,
      "outputs": [
        {
          "output_type": "stream",
          "name": "stdout",
          "text": [
            "insira seu peso em kg: 70\n",
            "insira sua altura em m: 1.54\n",
            "Seu IMC = 29.515938606847698\n"
          ]
        }
      ]
    },
    {
      "cell_type": "markdown",
      "source": [
        "Exercício 2 <br>\n",
        "Escreva um programa que solicita o raio de um círculo, e exibe o perímetro e a área desse círculo. Para calcular a área, utilize o operador de exponenciação **."
      ],
      "metadata": {
        "id": "XGINxMHoYVI6"
      }
    },
    {
      "cell_type": "code",
      "source": [
        "import sys\n",
        "import math\n",
        "\n",
        "raio = float(input(\"insira um raio de um círculo: \"))\n",
        "pi = math.pi\n",
        "perimetro = 2*pi*raio\n",
        "area = pi * raio**2\n",
        "\n",
        "print (pi)\n",
        "print (perimetro)\n",
        "print (area)"
      ],
      "metadata": {
        "id": "xthBpx_eY9Ve",
        "outputId": "e4ff3cc0-a06f-4592-8720-e709caf92827",
        "colab": {
          "base_uri": "https://localhost:8080/"
        }
      },
      "execution_count": null,
      "outputs": [
        {
          "output_type": "stream",
          "name": "stdout",
          "text": [
            "insira um raio de um círculo: 1\n",
            "3.141592653589793\n",
            "6.283185307179586\n",
            "3.141592653589793\n"
          ]
        }
      ]
    },
    {
      "cell_type": "markdown",
      "source": [
        "\n",
        "Exercício 3\n",
        "\n",
        "Faça um programa que leia os coeficientes a, b e c de uma equação de segundo grau. O programa deve calcular por Bhaskara as raízes dessa equação. Para esse problema, assuma que a equação sempre vai ter raízes reais (o usuário não vai digitar valores a, b e c que levam a uma equação que não possui raízes). Caso a equação possua apenas uma raiz, como a equação x2, repita a raiz na resposta duas vezes.\n",
        "\n",
        "Exemplo de execução do programa:\n",
        "\n",
        "Digite a: 2 Digite b: 0 Digite c: 0 Raíz 1: 0 Raíz 2: 0"
      ],
      "metadata": {
        "id": "I0sVlA7Uaiyg"
      }
    },
    {
      "cell_type": "code",
      "source": [
        "import sys\n",
        "import math\n",
        "\n",
        "coef_a = float(input(\"Digite a: \"))\n",
        "coef_b = float(input(\"Digite b: \"))\n",
        "coef_c = float(input(\"Digite c: \"))\n",
        "\n",
        "raiz_1 = (- coef_b + math.sqrt(coef_b**2 - 4*coef_a*coef_c))/2*coef_a\n",
        "raiz_2 = (- coef_b - math.sqrt(coef_b**2 - 4*coef_a*coef_c))/2*coef_a\n",
        "\n",
        "print(\"Raiz 1:\", raiz_1)\n",
        "print(\"Raiz 2:\", raiz_2)"
      ],
      "metadata": {
        "id": "3FZ6-i4PbE7v",
        "outputId": "1a520b01-7da7-49a5-b376-2c01db11691d",
        "colab": {
          "base_uri": "https://localhost:8080/"
        }
      },
      "execution_count": null,
      "outputs": [
        {
          "output_type": "stream",
          "name": "stdout",
          "text": [
            "Digite a: 2\n",
            "Digite b: 0\n",
            "Digite c: 0\n",
            "Raiz 1: 0.0\n",
            "Raiz 2: -0.0\n"
          ]
        }
      ]
    },
    {
      "cell_type": "markdown",
      "source": [
        "Exercício 4\n",
        "\n",
        "Dado um retângulo de lado a=7 e área=63, escreva:\n",
        "\n",
        "Uma instrução em Python que calcule o valor do lado b.\n",
        "\n",
        "Uma instrução que calcule a diagonal deste retângulo.\n",
        "\n",
        "Uma função que calcule a área e a diagonal de qualquer retângulo, dados os valores dos lados a e b."
      ],
      "metadata": {
        "id": "YJaImhisdKqN"
      }
    }
  ]
}