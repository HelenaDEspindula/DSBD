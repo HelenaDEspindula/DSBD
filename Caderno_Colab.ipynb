{
  "nbformat": 4,
  "nbformat_minor": 0,
  "metadata": {
    "colab": {
      "provenance": [],
      "authorship_tag": "ABX9TyPlxdIBmG7CP9gZnjGF9nqV",
      "include_colab_link": true
    },
    "kernelspec": {
      "name": "python3",
      "display_name": "Python 3"
    },
    "language_info": {
      "name": "python"
    }
  },
  "cells": [
    {
      "cell_type": "markdown",
      "metadata": {
        "id": "view-in-github",
        "colab_type": "text"
      },
      "source": [
        "<a href=\"https://colab.research.google.com/github/HelenaDEspindula/DSBD/blob/main/Caderno_Colab.ipynb\" target=\"_parent\"><img src=\"https://colab.research.google.com/assets/colab-badge.svg\" alt=\"Open In Colab\"/></a>"
      ]
    },
    {
      "cell_type": "code",
      "execution_count": null,
      "metadata": {
        "colab": {
          "base_uri": "https://localhost:8080/"
        },
        "id": "jbFXm2jEgIlY",
        "outputId": "419fe4f5-c0fb-43e9-c707-5d187d56f274"
      },
      "outputs": [
        {
          "output_type": "stream",
          "name": "stdout",
          "text": [
            "nome  Maria sobrenome  Silva 6.0\n"
          ]
        }
      ],
      "source": [
        "import math\n",
        "\n",
        "nome = \"Maria\"\n",
        "sobrenome = \"Silva\"\n",
        "calculo = 36\n",
        "calculo = math.sqrt(36)\n",
        "print(\"nome \", nome, \"sobrenome \", sobrenome, calculo)\n"
      ]
    }
  ]
}