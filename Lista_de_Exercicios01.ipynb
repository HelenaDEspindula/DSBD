{
  "nbformat": 4,
  "nbformat_minor": 0,
  "metadata": {
    "colab": {
      "provenance": [],
      "authorship_tag": "ABX9TyNOyih/31D/97sYa3Qs+OB6",
      "include_colab_link": true
    },
    "kernelspec": {
      "name": "python3",
      "display_name": "Python 3"
    },
    "language_info": {
      "name": "python"
    }
  },
  "cells": [
    {
      "cell_type": "markdown",
      "metadata": {
        "id": "view-in-github",
        "colab_type": "text"
      },
      "source": [
        "<a href=\"https://colab.research.google.com/github/HelenaDEspindula/DSBD/blob/main/Lista_de_Exercicios01.ipynb\" target=\"_parent\"><img src=\"https://colab.research.google.com/assets/colab-badge.svg\" alt=\"Open In Colab\"/></a>"
      ]
    },
    {
      "cell_type": "code",
      "execution_count": null,
      "metadata": {
        "id": "sbMPA1JtrC6P"
      },
      "outputs": [],
      "source": []
    },
    {
      "cell_type": "markdown",
      "source": [
        "<h1>Lista de Exercicios 01 - Estrutura Sequencial </h1>\n"
      ],
      "metadata": {
        "id": "-3gGb0FX_ix1"
      }
    },
    {
      "cell_type": "code",
      "source": [
        "## Faça um Programa que mostre a mensagem \"Alo mundo\" na tela.\n",
        "\n",
        "print(\"Alo Mundo\")"
      ],
      "metadata": {
        "colab": {
          "base_uri": "https://localhost:8080/"
        },
        "id": "m1Vwn2i9A77G",
        "outputId": "aa04f8e8-d9b9-4bc7-df4c-6961baf464db"
      },
      "execution_count": null,
      "outputs": [
        {
          "output_type": "stream",
          "name": "stdout",
          "text": [
            "Alo Mundo\n"
          ]
        }
      ]
    },
    {
      "cell_type": "code",
      "source": [
        "## 2. Faça um Programa que peça um número e então mostre a mensagem O número informado foi [número]\n",
        "\n",
        "numero = input(\"Escreva um numero: \")\n",
        "\n",
        "if (numero.isnumeric()):\n",
        "  print(\"O número informado foi \", numero)\n",
        "else:\n",
        "  print(\"O valor informado não é um número. Encerrando execução.\")"
      ],
      "metadata": {
        "colab": {
          "base_uri": "https://localhost:8080/"
        },
        "id": "jvJQdq0EBHRo",
        "outputId": "b1460085-1474-4fb2-d1ad-55e612672ac6"
      },
      "execution_count": null,
      "outputs": [
        {
          "output_type": "stream",
          "name": "stdout",
          "text": [
            "Escreva um numero: fd\n",
            "O valor informado não é um número\n"
          ]
        }
      ]
    },
    {
      "cell_type": "code",
      "source": [
        "## 3. Faça um Programa que peça dois números e imprima a soma.\n",
        "\n",
        "num1 = input(\"Escreva o primeiro número: \")\n",
        "num2 = input(\"Escreva o segundo número: \")\n",
        "\n",
        "\n",
        "\n",
        "if (num1.isnumeric() & num2.isnumeric()):\n",
        "  print(\" A soma dos números informados foi \", float(num1)+float(num2))\n",
        "else:\n",
        "  print(\"O valor informado não é um número. Encerrando\")"
      ],
      "metadata": {
        "id": "KwJwqNZ40kwC",
        "colab": {
          "base_uri": "https://localhost:8080/"
        },
        "outputId": "e5f4b320-f0b5-4068-86c0-455724884f23"
      },
      "execution_count": null,
      "outputs": [
        {
          "output_type": "stream",
          "name": "stdout",
          "text": [
            "Escreva o primeiro número: 13\n",
            "Escreva o segundo número: 12\n",
            " A soma dos números informados foi  25.0\n"
          ]
        }
      ]
    },
    {
      "cell_type": "code",
      "source": [
        "## 4. Faça um Programa que peça as 4 notas bimestrais e mostre a média.\n",
        "\n",
        "nota1 = input(\"Nota do 1o bimestre: \")\n",
        "nota2 = input(\"Nota do 2o bimestre: \")\n",
        "nota3 = input(\"Nota do 3o bimestre: \")\n",
        "nota4 = input(\"Nota do 4o bimestre: \")\n",
        "if (nota1.isnumeric() & nota2.isnumeric() & nota3.isnumeric() & nota4.isnumeric()):\n",
        "  media = ((float(nota1)+float(nota2)+float(nota3)+float(nota4))/4)\n",
        "  print(\"A média é \", media)\n",
        "else:\n",
        "  print(\"O valor informado não é um número. Encerrando\")"
      ],
      "metadata": {
        "id": "h3j2Z6cZ0p-h",
        "colab": {
          "base_uri": "https://localhost:8080/"
        },
        "outputId": "1a5fdc8d-2c08-4d04-ebb9-51fb2ba0893a"
      },
      "execution_count": null,
      "outputs": [
        {
          "output_type": "stream",
          "name": "stdout",
          "text": [
            "Nota do 1o bimestre: 25\n",
            "Nota do 2o bimestre: 24\n",
            "Nota do 3o bimestre: 26\n",
            "Nota do 4o bimestre: 25\n",
            "A média é  25.0\n"
          ]
        }
      ]
    },
    {
      "cell_type": "code",
      "source": [
        "## 5.Faça um Programa que converta metros para centímetros.\n",
        "\n",
        "metros = input(\"Medida em metros: \")\n",
        "\n",
        "if (metros.isnumeric()):\n",
        "  centimetros = float(metros) * 100\n",
        "  print(\"Em centimetros é \", centimetros)\n",
        "else:\n",
        "  print(\"O valor informado não é um número. Encerrando\")"
      ],
      "metadata": {
        "id": "mb1bcbAk3MAl",
        "colab": {
          "base_uri": "https://localhost:8080/"
        },
        "outputId": "9566ad7b-101a-4f83-d475-4614c501a023"
      },
      "execution_count": null,
      "outputs": [
        {
          "output_type": "stream",
          "name": "stdout",
          "text": [
            "Medida em metros: 10\n",
            "Em centimetros é  1000.0\n"
          ]
        }
      ]
    },
    {
      "cell_type": "code",
      "source": [
        "## 6.Faça um Programa que peça o raio de um círculo, calcule e mostre sua área.\n",
        "import math\n",
        "\n",
        "raio = input(\"Raio do circulo: \")\n",
        "\n",
        "if (raio.isnumeric()):\n",
        "  area_cir = (float(raio) * (math.pi) * (math.pi) )\n",
        "  print(\"A area do circulo é \", area_cir)\n",
        "else:\n",
        "  print(\"O valor informado não é um número. Encerrando\")"
      ],
      "metadata": {
        "id": "fU09TM7j3JQ7",
        "colab": {
          "base_uri": "https://localhost:8080/"
        },
        "outputId": "7585f938-bf2f-4f4e-a715-86324954b74e"
      },
      "execution_count": null,
      "outputs": [
        {
          "output_type": "stream",
          "name": "stdout",
          "text": [
            "Raio do circulo: 1\n",
            "A area do circulo é  9.869604401089358\n"
          ]
        }
      ]
    },
    {
      "cell_type": "code",
      "source": [
        "## 7.Faça um Programa que calcule a área de um quadrado, em seguida mostre o dobro desta área para o usuário.\n",
        "\n",
        "import math\n",
        "\n",
        "lado = input(\"Lado do quadrado: \")\n",
        "\n",
        "if (lado.isnumeric()):\n",
        "  area_q = (float(lado)**2 )\n",
        "  print(\"A area do quadrado é \", area_q, \" e o dobro dela é \", 2*area_q)\n",
        "else:\n",
        "  print(\"O valor informado não é um número. Encerrando\")\n",
        "\n",
        "\n"
      ],
      "metadata": {
        "id": "2Kzd9ayb3Hde",
        "colab": {
          "base_uri": "https://localhost:8080/"
        },
        "outputId": "94820196-0317-4a78-8b0a-79a739cf2fe6"
      },
      "execution_count": null,
      "outputs": [
        {
          "output_type": "stream",
          "name": "stdout",
          "text": [
            "Lado do quadrado: 2\n",
            "A area do quadrado é  4.0  e o dobro dela é  8.0\n"
          ]
        }
      ]
    },
    {
      "cell_type": "code",
      "source": [
        "## 8.Faça um Programa que pergunte quanto você ganha por hora e o número de horas trabalhadas no mês.\n",
        "## Calcule e mostre o total do seu salário no referido mês.\n",
        "import math\n",
        "\n",
        "por_hora = input(\"Valor da hora: \")\n",
        "horas_no_mes = input(\"Numero de horas: \")\n",
        "\n",
        "if (por_hora.isnumeric() & horas_no_mes.isnumeric()):\n",
        "  salario = float(por_hora) * float(horas_no_mes)\n",
        "  print(\"Seu salario será \", salario)\n",
        "else:\n",
        "  print(\"O valor informado não é um número. Encerrando\")\n"
      ],
      "metadata": {
        "id": "3Aw47jSy3FzJ",
        "colab": {
          "base_uri": "https://localhost:8080/"
        },
        "outputId": "d2897054-3225-404b-a209-b8e9896fb78a"
      },
      "execution_count": null,
      "outputs": [
        {
          "output_type": "stream",
          "name": "stdout",
          "text": [
            "Valor da hora: 90\n",
            "Numero de horas: 2\n",
            "Seu salario será  180.0\n"
          ]
        }
      ]
    },
    {
      "cell_type": "code",
      "source": [
        "## 9.Faça um Programa que peça a temperatura em graus Fahrenheit, transforme e mostre a temperatura em graus Celsius.\n",
        "    # C = 5 * ((F-32) / 9).\n",
        "\n",
        "import math\n",
        "\n",
        "grausF = input(\"Temperatura em Fahrenheit: \")\n",
        "\n",
        "if (grausF.isnumeric()):\n",
        "  grausC = 5 * ((float(grausF) - 32 )/9)\n",
        "  print(\"Temperatura em graus C: \", grausC)\n",
        "else:\n",
        "  print(\"O valor informado não é um número. Encerrando\")"
      ],
      "metadata": {
        "id": "KS8p1JnS3EVR",
        "colab": {
          "base_uri": "https://localhost:8080/"
        },
        "outputId": "b64d75f4-6f0a-446f-a0b0-e11d78ba795d"
      },
      "execution_count": null,
      "outputs": [
        {
          "output_type": "stream",
          "name": "stdout",
          "text": [
            "Temperatura em Fahrenheit: 32\n",
            "Temperatura em graus C:  0.0\n"
          ]
        }
      ]
    },
    {
      "cell_type": "code",
      "source": [
        "## 10.Faça um Programa que peça a temperatura em graus Celsius, transforme e mostre em graus Fahrenheit.\n",
        "import math\n",
        "\n",
        "grausC = input(\"Temperatura em °C: \")\n",
        "\n",
        "if (grausC.isnumeric()):\n",
        "  grausF = ((float(grausC)/5) * 9) + 32\n",
        "  print(\"Temperatura em Fahrenheit: \", grausF)\n",
        "else:\n",
        "  print(\"O valor informado não é um número. Encerrando\")"
      ],
      "metadata": {
        "id": "X_9CT0Mp2-ot",
        "colab": {
          "base_uri": "https://localhost:8080/"
        },
        "outputId": "53a85c29-2248-421a-c192-b57205b524de"
      },
      "execution_count": null,
      "outputs": [
        {
          "output_type": "stream",
          "name": "stdout",
          "text": [
            "Temperatura em °C: 0\n",
            "Temperatura em Fahrenheit:  32.0\n"
          ]
        }
      ]
    },
    {
      "cell_type": "code",
      "source": [
        "## 11.Faça um Programa que peça 2 números inteiros e um número real. Calcule e mostre:\n",
        "    # a. o produto do dobro do primeiro com metade do segundo .\n",
        "    # b. a soma do triplo do primeiro com o terceiro.\n",
        "    # c. o terceiro elevado ao cubo.\n",
        "\n",
        "import math\n",
        "\n",
        "int1 = \"a\"\n",
        "int2 = \"b\"\n",
        "real3 = \"c\"\n",
        "\n",
        "while not(int1.isnumeric()):\n",
        "  int1 =  input(\"Inteiro 1: \")\n",
        "int1 = int(int1)\n",
        "\n",
        "while not(int2.isnumeric()):\n",
        "  int2 =  input(\"Inteiro 2: \")\n",
        "int2 = int(int2)\n",
        "\n",
        "while True:\n",
        "    try:\n",
        "        real3 = float(real3)\n",
        "        break\n",
        "    except ValueError:\n",
        "        real3 =  input(\"Real 3: \")\n",
        "\n",
        "\n",
        "var_a = (2*int1) * (int2/2)\n",
        "print(\"a. o produto do dobro do primeiro com metade do segundo: \", (2*int1), \" * \"  ,(int2/2), \" = \", var_a)\n",
        "var_b = 3*int1 + real3\n",
        "print(\"b. a soma do triplo do primeiro com o terceiro: \", var_b)\n",
        "var_c = real3**3\n",
        "print(\"c. o terceiro elevado ao cubo: \", var_c)"
      ],
      "metadata": {
        "id": "yi7S5dD329SA",
        "colab": {
          "base_uri": "https://localhost:8080/"
        },
        "outputId": "648d603a-0ff4-47ae-8490-70873b261065"
      },
      "execution_count": null,
      "outputs": [
        {
          "output_type": "stream",
          "name": "stdout",
          "text": [
            "Inteiro 1: 1\n",
            "Inteiro 2: 2\n",
            "Real 3: 3\n",
            "a. o produto do dobro do primeiro com metade do segundo:  2  *  1.0  =  2.0\n",
            "b. a soma do triplo do primeiro com o terceiro:  6.0\n",
            "c. o terceiro elevado ao cubo:  27.0\n"
          ]
        }
      ]
    },
    {
      "cell_type": "code",
      "source": [
        "## 12.Tendo como dados de entrada a altura de uma pessoa, construa um algoritmo que calcule seu peso ideal,\n",
        "## usando a seguinte fórmula: (72.7*altura) - 58\n",
        "\n",
        "altura = \"a\"\n",
        "\n",
        "while True:\n",
        "    try:\n",
        "        altura = float(altura)\n",
        "        break\n",
        "    except ValueError:\n",
        "        altura =  input(\"Altura: \")\n",
        "\n",
        "peso_ideal = 72.7 * altura - 58\n",
        "\n",
        "print(\"Seu peso ideal é \", peso_ideal)"
      ],
      "metadata": {
        "id": "wKBjRc6C2vGe",
        "colab": {
          "base_uri": "https://localhost:8080/"
        },
        "outputId": "9fa4dbde-f725-4409-e546-b6c591517d56"
      },
      "execution_count": null,
      "outputs": [
        {
          "output_type": "stream",
          "name": "stdout",
          "text": [
            "Altura: 1.54\n",
            "Seu peso ideal é  53.95800000000001\n"
          ]
        }
      ]
    },
    {
      "cell_type": "code",
      "source": [
        "## 13.Tendo como dado de entrada a altura (h) de uma pessoa, construa um algoritmo que calcule seu peso ideal, utilizando as seguintes fórmulas:\n",
        "    # Para homens: (72.7*h) - 58\n",
        "    # Para mulheres: (62.1*h) - 44.7\n",
        "\n",
        "altura = \"a\"\n",
        "sexo = \"b\"\n",
        "\n",
        "while True:\n",
        "    try:\n",
        "        altura = float(altura)\n",
        "        break\n",
        "    except ValueError:\n",
        "        altura =  input(\"Altura: \")\n",
        "\n",
        "while (sexo != \"f\" and sexo != \"m\"):\n",
        "  sexo = input(\"Escreva seu sexo (f/m): \")\n",
        "if (sexo == \"m\"):\n",
        "  peso_ideal = 72.7 * altura - 58\n",
        "if (sexo == \"f\"):\n",
        "  peso_ideal = 62.1 * altura - 44.7\n",
        "\n",
        "print(\"Seu peso ideal é \", peso_ideal)"
      ],
      "metadata": {
        "id": "mgbIWYo_2su0",
        "colab": {
          "base_uri": "https://localhost:8080/"
        },
        "outputId": "790b8e87-2e89-450c-8c3e-6eb6ed738ae4"
      },
      "execution_count": null,
      "outputs": [
        {
          "output_type": "stream",
          "name": "stdout",
          "text": [
            "Altura: 1.54\n",
            "Escreva seu sexo (f/m): d\n",
            "Escreva seu sexo (f/m): r\n",
            "Escreva seu sexo (f/m): f\n",
            "Seu peso ideal é  50.934\n"
          ]
        }
      ]
    },
    {
      "cell_type": "code",
      "source": [
        "## 14.João Papo-de-Pescador, homem de bem, comprou um microcomputador para controlar o rendimento diário de seu trabalho.\n",
        "## Toda vez que ele traz um peso de peixes maior que o estabelecido pelo regulamento de pesca do estado de São Paulo (50 quilos)\n",
        "## deve pagar uma multa de R$ 4,00 por quilo excedente. João precisa que você faça um programa que leia a variável peso (peso de peixes) e\n",
        "## calcule o excesso. Gravar na variável excesso a quantidade de quilos além do limite e na variável multa o valor da multa que João deverá pagar.\n",
        "## Imprima os dados do programa com as mensagens adequadas.\n",
        "\n",
        "pesca = input(\"Coloque o número de kg pescados: \")\n",
        "\n",
        "while True:\n",
        "    try:\n",
        "        pesca = float(pesca)\n",
        "        break\n",
        "    except ValueError:\n",
        "        pesca = input(\"Coloque o número de kg pescados: \")\n",
        "\n",
        "pesca = float(pesca)\n",
        "if (pesca > 50):\n",
        "  excesso = pesca - 50\n",
        "  multa = excesso * 4\n",
        "  print(\"Hoje vc passou \", excesso, \"kg, portanto deve pagar uma multa de \", multa, \" reais\")\n",
        "else:\n",
        "  print(\"Você não precisa pagar multa hoje!\")\n"
      ],
      "metadata": {
        "id": "vke6P6D_2qAC",
        "colab": {
          "base_uri": "https://localhost:8080/"
        },
        "outputId": "b80df063-b451-4f45-f06a-db97ed89f781"
      },
      "execution_count": null,
      "outputs": [
        {
          "output_type": "stream",
          "name": "stdout",
          "text": [
            "Coloque o número de kg pescados: 52.5\n",
            "Hoje vc passou  2.5 kg, portanto deve pagar uma multa de  10.0  reais\n"
          ]
        }
      ]
    },
    {
      "cell_type": "code",
      "source": [
        "## 15.Faça um Programa que pergunte quanto você ganha por hora e o número de horas trabalhadas no mês.\n",
        "## Calcule e mostre o total do seu salário no referido mês, sabendo-se que são descontados 11% para o\n",
        "## Imposto de Renda, 8% para o INSS e 5% para o sindicato, faça um programa que nos dê:\n",
        "    # salário bruto.\n",
        "    # quanto pagou ao INSS.\n",
        "    # quanto pagou ao sindicato.\n",
        "    # o salário líquido.\n",
        "    # calcule os descontos e o salário líquido, conforme a tabela abaixo:\n",
        "    #     Salário Bruto : R$\n",
        "    #     IR (11%) : R$\n",
        "    #     INSS (8%) : R$\n",
        "    #     Sindicato ( 5%) : R=SalárioLiquido:R\n",
        "    #     Obs.: Salário Bruto - Descontos = Salário Líquido.\n",
        "\n",
        "import math\n",
        "\n",
        "por_hora = input(\"Valor da hora: \")\n",
        "while True:\n",
        "    try:\n",
        "        por_hora = float(por_hora)\n",
        "        break\n",
        "    except ValueError:\n",
        "        por_hora = input(\"Valor da hora: \")\n",
        "\n",
        "horas_no_mes = input(\"Numero de horas: \")\n",
        "while True:\n",
        "    try:\n",
        "        horas_no_mes = float(horas_no_mes)\n",
        "        break\n",
        "    except ValueError:\n",
        "        horas_no_mes = input(\"Numero de horas: \")\n",
        "\n",
        "salario_liq = float(por_hora) * float(horas_no_mes)\n",
        "print(\"Seu salario liquido é \", salario_liq)\n",
        "ir = salario_liq *0.11\n",
        "inss = salario_liq * 0.08\n",
        "sindicato = salario_liq * 0.05\n",
        "salario_bruto = salario_liq -(ir + inss + sindicato)\n",
        "\n",
        "print(\"Salário Bruto : R$\", salario_bruto)\n",
        "print(\"IR (11%) : R$\", ir)\n",
        "print(\"INSS (8%) : R$\", inss)\n",
        "print(\"Sindicato (5%) :\", sindicato)\n",
        "\n",
        "\n",
        "\n",
        "\n",
        "\n"
      ],
      "metadata": {
        "id": "fH_VkYY-2nIT",
        "colab": {
          "base_uri": "https://localhost:8080/"
        },
        "outputId": "001aaeec-f2b0-4b9b-9dc3-14c29f596de6"
      },
      "execution_count": null,
      "outputs": [
        {
          "output_type": "stream",
          "name": "stdout",
          "text": [
            "Valor da hora: 30\n",
            "Numero de horas: 2\n",
            "Seu salario liquido é  60.0\n",
            "Salário Bruto : R$ 45.6\n",
            "IR (11%) : R$ 6.6\n",
            "INSS (8%) : R$ 4.8\n",
            "Sindicato (5%) : 3.0\n"
          ]
        }
      ]
    },
    {
      "cell_type": "code",
      "source": [
        "## 16.Faça um programa para uma loja de tintas.\n",
        "## O programa deverá pedir o tamanho em metros quadrados da área a ser pintada.\n",
        "## Considere que a cobertura da tinta é de 1 litro para cada 3 metros quadrados e que a\n",
        "## tinta é vendida em latas de 18 litros, que custam R$ 80,00. Informe ao usuário a quantidades de latas de tinta a serem compradas e o preço total.\n",
        "\n",
        "import math\n",
        "\n",
        "def is_float(variavel, texto):\n",
        "  variavel = input(texto)\n",
        "  while True:\n",
        "      try:\n",
        "          variavel = float(variavel)\n",
        "          return(variavel)\n",
        "          break\n",
        "      except ValueError:\n",
        "          variavel = input(texto)\n",
        "\n",
        "metragem =\"\"\n",
        "metragem = is_float(metragem, \"Insira a metragem quadrada da area a ser pintada:\")\n",
        "## print(\"A metragem foi:\", metragem)\n",
        "\n",
        "latas = math.ceil((metragem/3)/18)\n",
        "preco = latas * 80\n",
        "\n",
        "print(\"Serão necessarias\", latas, \"latas de tinta. O custo será\", preco, \"reais.\")\n",
        "\n"
      ],
      "metadata": {
        "id": "B2tRam9F2lPO",
        "colab": {
          "base_uri": "https://localhost:8080/"
        },
        "outputId": "49572fc6-bd8b-43ae-fa42-dc1d11e27643"
      },
      "execution_count": 3,
      "outputs": [
        {
          "output_type": "stream",
          "name": "stdout",
          "text": [
            "Insira a metragem quadrada da area a ser pintada:3\n",
            "Serão necessarias 1 latas de tinta. O custo será 80 reais.\n"
          ]
        }
      ]
    },
    {
      "cell_type": "code",
      "source": [
        "## 17.Faça um Programa para uma loja de tintas.\n",
        "## O programa deverá pedir o tamanho em metros quadrados da área a ser pintada.\n",
        "## Considere que a cobertura da tinta é de 1 litro para cada 6 metros quadrados e que a\n",
        "## tinta é vendida em latas de 18 litros, que custam R 80,00 ou em galões de 3,6 litros, que custam R 25,00.\n",
        "\n",
        "import math\n",
        "\n",
        "def is_float(variavel, texto):\n",
        "  variavel = input(texto)\n",
        "  while True:\n",
        "      try:\n",
        "          variavel = float(variavel)\n",
        "          return(variavel)\n",
        "          break\n",
        "      except ValueError:\n",
        "          variavel = input(texto)\n",
        "\n",
        "metragem = is_float(metragem, \"Insira a metragem quadrada da area a ser pintada:\")\n",
        "## print(\"A metragem foi:\", metragem)\n",
        "\n",
        "litros = (metragem/6)\n",
        "latas = int(litros/18)\n",
        "galoes = math.ceil((litros - (latas*18))/3.6)\n",
        "preco = latas * 80 + galoes * 25\n",
        "\n",
        "print(\"Serão necessarios\", litros, \"litros de tinta, ou seja,\", latas, \"latas de tinta e\", galoes ,\"galões de tintas. O custo será\", preco, \"reais.\")\n"
      ],
      "metadata": {
        "id": "XpYz28wO2Uz1",
        "colab": {
          "base_uri": "https://localhost:8080/"
        },
        "outputId": "5b3587dc-ce15-4fc4-b479-f7e1695a5cc4"
      },
      "execution_count": 7,
      "outputs": [
        {
          "output_type": "stream",
          "name": "stdout",
          "text": [
            "Insira a metragem quadrada da area a ser pintada:132\n",
            "Serão necessarios 22.0 litros de tinta, ou seja, 1 latas de tinta e 2  galões de tintas. O custo será 130 reais.\n"
          ]
        }
      ]
    },
    {
      "cell_type": "code",
      "source": [
        "## 18.Informe ao usuário as quantidades de tinta a serem compradas e os respectivos preços em 3 situações:\n",
        "    # comprar apenas latas de 18 litros;\n",
        "    # comprar apenas galões de 3,6 litros;\n",
        "    # misturar latas e galões, de forma que o desperdício de tinta seja menor.\n",
        "  ## Acrescente 10% de folga e sempre arredonde os valores para cima, isto é, considere latas cheias.\n",
        "\n",
        "\n",
        "\n"
      ],
      "metadata": {
        "id": "OZVh9_qZ2TDl",
        "colab": {
          "base_uri": "https://localhost:8080/",
          "height": 418
        },
        "outputId": "9780b0cf-aec1-4c38-df20-204806c40da0"
      },
      "execution_count": 8,
      "outputs": [
        {
          "output_type": "error",
          "ename": "KeyboardInterrupt",
          "evalue": "Interrupted by user",
          "traceback": [
            "\u001b[0;31m---------------------------------------------------------------------------\u001b[0m",
            "\u001b[0;31mKeyboardInterrupt\u001b[0m                         Traceback (most recent call last)",
            "\u001b[0;32m<ipython-input-8-b95198cd54d6>\u001b[0m in \u001b[0;36m<cell line: 19>\u001b[0;34m()\u001b[0m\n\u001b[1;32m     17\u001b[0m           \u001b[0mvariavel\u001b[0m \u001b[0;34m=\u001b[0m \u001b[0minput\u001b[0m\u001b[0;34m(\u001b[0m\u001b[0mtexto\u001b[0m\u001b[0;34m)\u001b[0m\u001b[0;34m\u001b[0m\u001b[0;34m\u001b[0m\u001b[0m\n\u001b[1;32m     18\u001b[0m \u001b[0;34m\u001b[0m\u001b[0m\n\u001b[0;32m---> 19\u001b[0;31m \u001b[0mmetragem\u001b[0m \u001b[0;34m=\u001b[0m \u001b[0mis_float\u001b[0m\u001b[0;34m(\u001b[0m\u001b[0mmetragem\u001b[0m\u001b[0;34m,\u001b[0m \u001b[0;34m\"Insira a metragem quadrada da area a ser pintada:\"\u001b[0m\u001b[0;34m)\u001b[0m\u001b[0;34m\u001b[0m\u001b[0;34m\u001b[0m\u001b[0m\n\u001b[0m\u001b[1;32m     20\u001b[0m \u001b[0;31m## print(\"A metragem foi:\", metragem)\u001b[0m\u001b[0;34m\u001b[0m\u001b[0;34m\u001b[0m\u001b[0m\n\u001b[1;32m     21\u001b[0m \u001b[0;34m\u001b[0m\u001b[0m\n",
            "\u001b[0;32m<ipython-input-8-b95198cd54d6>\u001b[0m in \u001b[0;36mis_float\u001b[0;34m(variavel, texto)\u001b[0m\n\u001b[1;32m      8\u001b[0m \u001b[0;34m\u001b[0m\u001b[0m\n\u001b[1;32m      9\u001b[0m \u001b[0;32mdef\u001b[0m \u001b[0mis_float\u001b[0m\u001b[0;34m(\u001b[0m\u001b[0mvariavel\u001b[0m\u001b[0;34m,\u001b[0m \u001b[0mtexto\u001b[0m\u001b[0;34m)\u001b[0m\u001b[0;34m:\u001b[0m\u001b[0;34m\u001b[0m\u001b[0;34m\u001b[0m\u001b[0m\n\u001b[0;32m---> 10\u001b[0;31m   \u001b[0mvariavel\u001b[0m \u001b[0;34m=\u001b[0m \u001b[0minput\u001b[0m\u001b[0;34m(\u001b[0m\u001b[0mtexto\u001b[0m\u001b[0;34m)\u001b[0m\u001b[0;34m\u001b[0m\u001b[0;34m\u001b[0m\u001b[0m\n\u001b[0m\u001b[1;32m     11\u001b[0m   \u001b[0;32mwhile\u001b[0m \u001b[0;32mTrue\u001b[0m\u001b[0;34m:\u001b[0m\u001b[0;34m\u001b[0m\u001b[0;34m\u001b[0m\u001b[0m\n\u001b[1;32m     12\u001b[0m       \u001b[0;32mtry\u001b[0m\u001b[0;34m:\u001b[0m\u001b[0;34m\u001b[0m\u001b[0;34m\u001b[0m\u001b[0m\n",
            "\u001b[0;32m/usr/local/lib/python3.10/dist-packages/ipykernel/kernelbase.py\u001b[0m in \u001b[0;36mraw_input\u001b[0;34m(self, prompt)\u001b[0m\n\u001b[1;32m    849\u001b[0m                 \u001b[0;34m\"raw_input was called, but this frontend does not support input requests.\"\u001b[0m\u001b[0;34m\u001b[0m\u001b[0;34m\u001b[0m\u001b[0m\n\u001b[1;32m    850\u001b[0m             )\n\u001b[0;32m--> 851\u001b[0;31m         return self._input_request(str(prompt),\n\u001b[0m\u001b[1;32m    852\u001b[0m             \u001b[0mself\u001b[0m\u001b[0;34m.\u001b[0m\u001b[0m_parent_ident\u001b[0m\u001b[0;34m,\u001b[0m\u001b[0;34m\u001b[0m\u001b[0;34m\u001b[0m\u001b[0m\n\u001b[1;32m    853\u001b[0m             \u001b[0mself\u001b[0m\u001b[0;34m.\u001b[0m\u001b[0m_parent_header\u001b[0m\u001b[0;34m,\u001b[0m\u001b[0;34m\u001b[0m\u001b[0;34m\u001b[0m\u001b[0m\n",
            "\u001b[0;32m/usr/local/lib/python3.10/dist-packages/ipykernel/kernelbase.py\u001b[0m in \u001b[0;36m_input_request\u001b[0;34m(self, prompt, ident, parent, password)\u001b[0m\n\u001b[1;32m    893\u001b[0m             \u001b[0;32mexcept\u001b[0m \u001b[0mKeyboardInterrupt\u001b[0m\u001b[0;34m:\u001b[0m\u001b[0;34m\u001b[0m\u001b[0;34m\u001b[0m\u001b[0m\n\u001b[1;32m    894\u001b[0m                 \u001b[0;31m# re-raise KeyboardInterrupt, to truncate traceback\u001b[0m\u001b[0;34m\u001b[0m\u001b[0;34m\u001b[0m\u001b[0m\n\u001b[0;32m--> 895\u001b[0;31m                 \u001b[0;32mraise\u001b[0m \u001b[0mKeyboardInterrupt\u001b[0m\u001b[0;34m(\u001b[0m\u001b[0;34m\"Interrupted by user\"\u001b[0m\u001b[0;34m)\u001b[0m \u001b[0;32mfrom\u001b[0m \u001b[0;32mNone\u001b[0m\u001b[0;34m\u001b[0m\u001b[0;34m\u001b[0m\u001b[0m\n\u001b[0m\u001b[1;32m    896\u001b[0m             \u001b[0;32mexcept\u001b[0m \u001b[0mException\u001b[0m \u001b[0;32mas\u001b[0m \u001b[0me\u001b[0m\u001b[0;34m:\u001b[0m\u001b[0;34m\u001b[0m\u001b[0;34m\u001b[0m\u001b[0m\n\u001b[1;32m    897\u001b[0m                 \u001b[0mself\u001b[0m\u001b[0;34m.\u001b[0m\u001b[0mlog\u001b[0m\u001b[0;34m.\u001b[0m\u001b[0mwarning\u001b[0m\u001b[0;34m(\u001b[0m\u001b[0;34m\"Invalid Message:\"\u001b[0m\u001b[0;34m,\u001b[0m \u001b[0mexc_info\u001b[0m\u001b[0;34m=\u001b[0m\u001b[0;32mTrue\u001b[0m\u001b[0;34m)\u001b[0m\u001b[0;34m\u001b[0m\u001b[0;34m\u001b[0m\u001b[0m\n",
            "\u001b[0;31mKeyboardInterrupt\u001b[0m: Interrupted by user"
          ]
        }
      ]
    },
    {
      "cell_type": "code",
      "source": [
        "## 19.Faça um programa que peça o tamanho de um arquivo para download (em MB) e a velocidade de um link de Internet (em Mbps), calcule e informe o tempo aproximado de download do arquivo usando este link (em minutos).\n",
        "\n",
        "\n",
        "\n"
      ],
      "metadata": {
        "id": "O1mqArhP2RZb"
      },
      "execution_count": null,
      "outputs": []
    }
  ]
}